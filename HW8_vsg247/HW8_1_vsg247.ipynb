{
 "cells": [
  {
   "cell_type": "markdown",
   "metadata": {},
   "source": [
    "# HW8 - Assignment 1 - vsg247"
   ]
  },
  {
   "cell_type": "markdown",
   "metadata": {},
   "source": [
    "# Working with Data - Computer Lab for Guest Lecture Julia Lane\n",
    "\n",
    "In this computer lab we will learn more more details and practice data work to enhance the content of the lecture presented by Julia Lane on responsible data use. We will address a research question, think about data and measurement errors, and manipulate data. \n",
    "\n",
    "OUTLINE: \n",
    "1. Define a research question \n",
    "2. Think about what data are available \n",
    "3. Think about possible measurement errors \n",
    "4. Think about the interpretation of your results \n",
    "5. Inform your results by linking datasets "
   ]
  },
  {
   "cell_type": "markdown",
   "metadata": {
    "raw_mimetype": "text/markdown"
   },
   "source": [
    "# 1. Define a reserach question\n",
    "Which Community Districts in NYC show the highest number of complaints?\n",
    "\n",
    "# 2. Think about what data are available\n",
    "Find suitable data by searching the CUSP Data Catalog https://datahub.cusp.nyu.edu/catalog. You can use Urban Profiler to investigate the Metadata associated with each dataset. Using this tool will help you to decide which attributes of the data you need to answer your question so you don't have to load the entire dataset. "
   ]
  },
  {
   "cell_type": "code",
   "execution_count": 1,
   "metadata": {
    "collapsed": false
   },
   "outputs": [
    {
     "name": "stdout",
     "output_type": "stream",
     "text": [
      "Populating the interactive namespace from numpy and matplotlib\n"
     ]
    }
   ],
   "source": [
    "import os\n",
    "import pandas as pd\n",
    "import numpy as np\n",
    "import re\n",
    "import pylab as pl\n",
    "import statsmodels.formula.api as smf\n",
    "\n",
    "PUIdata = 'http://cosmo.nyu.edu/~fb55/PUI2016/data/'\n",
    "%pylab inline"
   ]
  },
  {
   "cell_type": "code",
   "execution_count": 2,
   "metadata": {
    "collapsed": false
   },
   "outputs": [],
   "source": [
    "# Load 311 data (selecting only columns of interest)\n",
    "df311 = pd.read_csv('/projects/open/NYCOpenData/nycopendata/data/erm2-nwe9/1446832678/erm2-nwe9',\n",
    "                    usecols = [0, 1, 3, 5, 6, 23, 24])"
   ]
  },
  {
   "cell_type": "code",
   "execution_count": 3,
   "metadata": {
    "collapsed": false
   },
   "outputs": [
    {
     "data": {
      "text/html": [
       "<div>\n",
       "<table border=\"1\" class=\"dataframe\">\n",
       "  <thead>\n",
       "    <tr style=\"text-align: right;\">\n",
       "      <th></th>\n",
       "      <th>Unique Key</th>\n",
       "      <th>Created Date</th>\n",
       "      <th>Agency</th>\n",
       "      <th>Complaint Type</th>\n",
       "      <th>Descriptor</th>\n",
       "      <th>Community Board</th>\n",
       "      <th>Borough</th>\n",
       "    </tr>\n",
       "  </thead>\n",
       "  <tbody>\n",
       "    <tr>\n",
       "      <th>0</th>\n",
       "      <td>31911011</td>\n",
       "      <td>11/05/2015 02:59:15 AM</td>\n",
       "      <td>DOT</td>\n",
       "      <td>Street Condition</td>\n",
       "      <td>Pothole</td>\n",
       "      <td>13 BROOKLYN</td>\n",
       "      <td>BROOKLYN</td>\n",
       "    </tr>\n",
       "    <tr>\n",
       "      <th>1</th>\n",
       "      <td>31908754</td>\n",
       "      <td>11/05/2015 02:09:49 AM</td>\n",
       "      <td>CHALL</td>\n",
       "      <td>Opinion for the Mayor</td>\n",
       "      <td>HOUSING</td>\n",
       "      <td>0 Unspecified</td>\n",
       "      <td>Unspecified</td>\n",
       "    </tr>\n",
       "    <tr>\n",
       "      <th>2</th>\n",
       "      <td>31910423</td>\n",
       "      <td>11/05/2015 02:06:51 AM</td>\n",
       "      <td>DPR</td>\n",
       "      <td>Root/Sewer/Sidewalk Condition</td>\n",
       "      <td>Trees and Sidewalks Program</td>\n",
       "      <td>18 BROOKLYN</td>\n",
       "      <td>BROOKLYN</td>\n",
       "    </tr>\n",
       "  </tbody>\n",
       "</table>\n",
       "</div>"
      ],
      "text/plain": [
       "   Unique Key            Created Date Agency                 Complaint Type  \\\n",
       "0    31911011  11/05/2015 02:59:15 AM    DOT               Street Condition   \n",
       "1    31908754  11/05/2015 02:09:49 AM  CHALL          Opinion for the Mayor   \n",
       "2    31910423  11/05/2015 02:06:51 AM    DPR  Root/Sewer/Sidewalk Condition   \n",
       "\n",
       "                    Descriptor Community Board      Borough  \n",
       "0                      Pothole     13 BROOKLYN     BROOKLYN  \n",
       "1                      HOUSING   0 Unspecified  Unspecified  \n",
       "2  Trees and Sidewalks Program     18 BROOKLYN     BROOKLYN  "
      ]
     },
     "execution_count": 3,
     "metadata": {},
     "output_type": "execute_result"
    }
   ],
   "source": [
    "df311.head(3)"
   ]
  },
  {
   "cell_type": "code",
   "execution_count": 4,
   "metadata": {
    "collapsed": false
   },
   "outputs": [
    {
     "data": {
      "text/plain": [
       "Index([u'Unique Key', u'Created Date', u'Agency', u'Complaint Type',\n",
       "       u'Descriptor', u'Community Board', u'Borough'],\n",
       "      dtype='object')"
      ]
     },
     "execution_count": 4,
     "metadata": {},
     "output_type": "execute_result"
    }
   ],
   "source": [
    "df311.columns"
   ]
  },
  {
   "cell_type": "code",
   "execution_count": 5,
   "metadata": {
    "collapsed": true
   },
   "outputs": [],
   "source": [
    "# subsetting for testing purposes \n",
    "df311_test = df311.iloc[:10000, :]"
   ]
  },
  {
   "cell_type": "code",
   "execution_count": 6,
   "metadata": {
    "collapsed": true
   },
   "outputs": [],
   "source": [
    "# Load Community districts breakdown\n",
    "ComDist = pd.read_csv('/projects/open/NYCOpenData/nycopendata/data/w3c6-35wg/1422440891/w3c6-35wg')"
   ]
  },
  {
   "cell_type": "code",
   "execution_count": 7,
   "metadata": {
    "collapsed": false
   },
   "outputs": [
    {
     "data": {
      "text/html": [
       "<div>\n",
       "<table border=\"1\" class=\"dataframe\">\n",
       "  <thead>\n",
       "    <tr style=\"text-align: right;\">\n",
       "      <th></th>\n",
       "      <th>JURISDICTION NAME</th>\n",
       "      <th>COUNT PARTICIPANTS</th>\n",
       "      <th>COUNT FEMALE</th>\n",
       "      <th>PERCENT FEMALE</th>\n",
       "      <th>COUNT MALE</th>\n",
       "      <th>PERCENT MALE</th>\n",
       "      <th>COUNT GENDER UNKNOWN</th>\n",
       "      <th>PERCENT GENDER UNKNOWN</th>\n",
       "      <th>COUNT GENDER TOTAL</th>\n",
       "      <th>PERCENT GENDER TOTAL</th>\n",
       "      <th>...</th>\n",
       "      <th>PERCENT CITIZEN STATUS UNKNOWN</th>\n",
       "      <th>COUNT CITIZEN STATUS TOTAL</th>\n",
       "      <th>PERCENT CITIZEN STATUS TOTAL</th>\n",
       "      <th>COUNT RECEIVES PUBLIC ASSISTANCE</th>\n",
       "      <th>PERCENT RECEIVES PUBLIC ASSISTANCE</th>\n",
       "      <th>COUNT NRECEIVES PUBLIC ASSISTANCE</th>\n",
       "      <th>PERCENT NRECEIVES PUBLIC ASSISTANCE</th>\n",
       "      <th>COUNT PUBLIC ASSISTANCE UNKNOWN</th>\n",
       "      <th>PERCENT PUBLIC ASSISTANCE UNKNOWN</th>\n",
       "      <th>COUNT PUBLIC ASSISTANCE TOTAL</th>\n",
       "    </tr>\n",
       "  </thead>\n",
       "  <tbody>\n",
       "    <tr>\n",
       "      <th>0</th>\n",
       "      <td>Bronx CD 001</td>\n",
       "      <td>59</td>\n",
       "      <td>31</td>\n",
       "      <td>0.53</td>\n",
       "      <td>28</td>\n",
       "      <td>0.47</td>\n",
       "      <td>0</td>\n",
       "      <td>0</td>\n",
       "      <td>59</td>\n",
       "      <td>100</td>\n",
       "      <td>...</td>\n",
       "      <td>0</td>\n",
       "      <td>59</td>\n",
       "      <td>100</td>\n",
       "      <td>20</td>\n",
       "      <td>0.34</td>\n",
       "      <td>39</td>\n",
       "      <td>0.66</td>\n",
       "      <td>0</td>\n",
       "      <td>0</td>\n",
       "      <td>59</td>\n",
       "    </tr>\n",
       "    <tr>\n",
       "      <th>1</th>\n",
       "      <td>Bronx CD 002</td>\n",
       "      <td>7</td>\n",
       "      <td>5</td>\n",
       "      <td>0.71</td>\n",
       "      <td>2</td>\n",
       "      <td>0.29</td>\n",
       "      <td>0</td>\n",
       "      <td>0</td>\n",
       "      <td>7</td>\n",
       "      <td>100</td>\n",
       "      <td>...</td>\n",
       "      <td>0</td>\n",
       "      <td>7</td>\n",
       "      <td>100</td>\n",
       "      <td>3</td>\n",
       "      <td>0.43</td>\n",
       "      <td>4</td>\n",
       "      <td>0.57</td>\n",
       "      <td>0</td>\n",
       "      <td>0</td>\n",
       "      <td>7</td>\n",
       "    </tr>\n",
       "    <tr>\n",
       "      <th>2</th>\n",
       "      <td>Bronx CD 003</td>\n",
       "      <td>15</td>\n",
       "      <td>12</td>\n",
       "      <td>0.80</td>\n",
       "      <td>3</td>\n",
       "      <td>0.20</td>\n",
       "      <td>0</td>\n",
       "      <td>0</td>\n",
       "      <td>15</td>\n",
       "      <td>100</td>\n",
       "      <td>...</td>\n",
       "      <td>0</td>\n",
       "      <td>15</td>\n",
       "      <td>100</td>\n",
       "      <td>6</td>\n",
       "      <td>0.40</td>\n",
       "      <td>9</td>\n",
       "      <td>0.60</td>\n",
       "      <td>0</td>\n",
       "      <td>0</td>\n",
       "      <td>15</td>\n",
       "    </tr>\n",
       "    <tr>\n",
       "      <th>3</th>\n",
       "      <td>Bronx CD 004</td>\n",
       "      <td>44</td>\n",
       "      <td>27</td>\n",
       "      <td>0.61</td>\n",
       "      <td>17</td>\n",
       "      <td>0.39</td>\n",
       "      <td>0</td>\n",
       "      <td>0</td>\n",
       "      <td>44</td>\n",
       "      <td>100</td>\n",
       "      <td>...</td>\n",
       "      <td>0</td>\n",
       "      <td>44</td>\n",
       "      <td>100</td>\n",
       "      <td>13</td>\n",
       "      <td>0.30</td>\n",
       "      <td>31</td>\n",
       "      <td>0.70</td>\n",
       "      <td>0</td>\n",
       "      <td>0</td>\n",
       "      <td>44</td>\n",
       "    </tr>\n",
       "    <tr>\n",
       "      <th>4</th>\n",
       "      <td>Bronx CD 005</td>\n",
       "      <td>18</td>\n",
       "      <td>7</td>\n",
       "      <td>0.39</td>\n",
       "      <td>11</td>\n",
       "      <td>0.61</td>\n",
       "      <td>0</td>\n",
       "      <td>0</td>\n",
       "      <td>18</td>\n",
       "      <td>100</td>\n",
       "      <td>...</td>\n",
       "      <td>0</td>\n",
       "      <td>18</td>\n",
       "      <td>100</td>\n",
       "      <td>8</td>\n",
       "      <td>0.44</td>\n",
       "      <td>10</td>\n",
       "      <td>0.56</td>\n",
       "      <td>0</td>\n",
       "      <td>0</td>\n",
       "      <td>18</td>\n",
       "    </tr>\n",
       "  </tbody>\n",
       "</table>\n",
       "<p>5 rows × 45 columns</p>\n",
       "</div>"
      ],
      "text/plain": [
       "  JURISDICTION NAME  COUNT PARTICIPANTS  COUNT FEMALE  PERCENT FEMALE  \\\n",
       "0      Bronx CD 001                  59            31            0.53   \n",
       "1      Bronx CD 002                   7             5            0.71   \n",
       "2      Bronx CD 003                  15            12            0.80   \n",
       "3      Bronx CD 004                  44            27            0.61   \n",
       "4      Bronx CD 005                  18             7            0.39   \n",
       "\n",
       "   COUNT MALE  PERCENT MALE  COUNT GENDER UNKNOWN  PERCENT GENDER UNKNOWN  \\\n",
       "0          28          0.47                     0                       0   \n",
       "1           2          0.29                     0                       0   \n",
       "2           3          0.20                     0                       0   \n",
       "3          17          0.39                     0                       0   \n",
       "4          11          0.61                     0                       0   \n",
       "\n",
       "   COUNT GENDER TOTAL  PERCENT GENDER TOTAL              ...                \\\n",
       "0                  59                   100              ...                 \n",
       "1                   7                   100              ...                 \n",
       "2                  15                   100              ...                 \n",
       "3                  44                   100              ...                 \n",
       "4                  18                   100              ...                 \n",
       "\n",
       "   PERCENT CITIZEN STATUS UNKNOWN  COUNT CITIZEN STATUS TOTAL  \\\n",
       "0                               0                          59   \n",
       "1                               0                           7   \n",
       "2                               0                          15   \n",
       "3                               0                          44   \n",
       "4                               0                          18   \n",
       "\n",
       "   PERCENT CITIZEN STATUS TOTAL  COUNT RECEIVES PUBLIC ASSISTANCE  \\\n",
       "0                           100                                20   \n",
       "1                           100                                 3   \n",
       "2                           100                                 6   \n",
       "3                           100                                13   \n",
       "4                           100                                 8   \n",
       "\n",
       "   PERCENT RECEIVES PUBLIC ASSISTANCE  COUNT NRECEIVES PUBLIC ASSISTANCE  \\\n",
       "0                                0.34                                 39   \n",
       "1                                0.43                                  4   \n",
       "2                                0.40                                  9   \n",
       "3                                0.30                                 31   \n",
       "4                                0.44                                 10   \n",
       "\n",
       "   PERCENT NRECEIVES PUBLIC ASSISTANCE  COUNT PUBLIC ASSISTANCE UNKNOWN  \\\n",
       "0                                 0.66                                0   \n",
       "1                                 0.57                                0   \n",
       "2                                 0.60                                0   \n",
       "3                                 0.70                                0   \n",
       "4                                 0.56                                0   \n",
       "\n",
       "   PERCENT PUBLIC ASSISTANCE UNKNOWN  COUNT PUBLIC ASSISTANCE TOTAL  \n",
       "0                                  0                             59  \n",
       "1                                  0                              7  \n",
       "2                                  0                             15  \n",
       "3                                  0                             44  \n",
       "4                                  0                             18  \n",
       "\n",
       "[5 rows x 45 columns]"
      ]
     },
     "execution_count": 7,
     "metadata": {},
     "output_type": "execute_result"
    }
   ],
   "source": [
    "ComDist.head()"
   ]
  },
  {
   "cell_type": "code",
   "execution_count": 8,
   "metadata": {
    "collapsed": false
   },
   "outputs": [
    {
     "data": {
      "text/plain": [
       "0         Bronx CD 001\n",
       "1         Bronx CD 002\n",
       "2         Bronx CD 003\n",
       "3         Bronx CD 004\n",
       "4         Bronx CD 005\n",
       "5         Bronx CD 006\n",
       "6         Bronx CD 007\n",
       "7         Bronx CD 008\n",
       "8         Bronx CD 009\n",
       "9         Bronx CD 010\n",
       "10        Bronx CD 011\n",
       "11        Bronx CD 012\n",
       "12     Brooklyn CD 001\n",
       "13     Brooklyn CD 002\n",
       "14     Brooklyn CD 003\n",
       "15     Brooklyn CD 004\n",
       "16     Brooklyn CD 005\n",
       "17     Brooklyn CD 006\n",
       "18     Brooklyn CD 007\n",
       "19     Brooklyn CD 008\n",
       "20     Brooklyn CD 009\n",
       "21     Brooklyn CD 010\n",
       "22     Brooklyn CD 011\n",
       "23     Brooklyn CD 012\n",
       "24     Brooklyn CD 013\n",
       "25     Brooklyn CD 014\n",
       "26     Brooklyn CD 015\n",
       "27     Brooklyn CD 016\n",
       "28     Brooklyn CD 017\n",
       "29     Brooklyn CD 018\n",
       "30    Manhattan CD 001\n",
       "31    Manhattan CD 002\n",
       "32    Manhattan CD 003\n",
       "33    Manhattan CD 004\n",
       "34    Manhattan CD 005\n",
       "35    Manhattan CD 006\n",
       "36    Manhattan CD 007\n",
       "37    Manhattan CD 008\n",
       "38    Manhattan CD 009\n",
       "39    Manhattan CD 010\n",
       "40    Manhattan CD 011\n",
       "41    Manhattan CD 012\n",
       "42       Queens CD 001\n",
       "43       Queens CD 002\n",
       "44       Queens CD 003\n",
       "45       Queens CD 004\n",
       "46       Queens CD 005\n",
       "47       Queens CD 006\n",
       "48       Queens CD 007\n",
       "49       Queens CD 008\n",
       "50       Queens CD 009\n",
       "51       Queens CD 010\n",
       "52       Queens CD 011\n",
       "53       Queens CD 012\n",
       "54       Queens CD 013\n",
       "55       Queens CD 014\n",
       "56     Richmond CD 001\n",
       "57     Richmond CD 002\n",
       "58     Richmond CD 003\n",
       "Name: JURISDICTION NAME, dtype: object"
      ]
     },
     "execution_count": 8,
     "metadata": {},
     "output_type": "execute_result"
    }
   ],
   "source": [
    "# checking how many Community Districts there are\n",
    "ComDist['JURISDICTION NAME']"
   ]
  },
  {
   "cell_type": "markdown",
   "metadata": {},
   "source": [
    "# 3. Think about possible measurement errors\n",
    "Do you see any problems regarding possible measurement error? Think about who is represented in the data, ommissions, duplications, content error, missing data, etc. "
   ]
  },
  {
   "cell_type": "code",
   "execution_count": 9,
   "metadata": {
    "collapsed": false
   },
   "outputs": [
    {
     "name": "stdout",
     "output_type": "stream",
     "text": [
      "77\n",
      "['13 BROOKLYN' '0 Unspecified' '18 BROOKLYN' '12 BROOKLYN'\n",
      " '02 STATEN ISLAND' '08 MANHATTAN' '06 BROOKLYN' '10 BRONX' '06 MANHATTAN'\n",
      " '04 BROOKLYN' '04 QUEENS' '09 MANHATTAN' '14 BROOKLYN' '05 MANHATTAN'\n",
      " '02 MANHATTAN' '10 QUEENS' '07 QUEENS' '02 QUEENS' '11 BROOKLYN'\n",
      " '05 QUEENS' '05 BROOKLYN' '09 QUEENS' '12 MANHATTAN' '01 BROOKLYN'\n",
      " '11 MANHATTAN' '03 BRONX' '03 STATEN ISLAND' '08 BROOKLYN' '03 BROOKLYN'\n",
      " '07 MANHATTAN' '10 MANHATTAN' '04 BRONX' '01 MANHATTAN' '07 BRONX'\n",
      " '09 BRONX' '03 MANHATTAN' '13 QUEENS' '02 BRONX' '12 QUEENS' '16 BROOKLYN'\n",
      " '08 QUEENS' '04 MANHATTAN' '14 QUEENS' '10 BROOKLYN' '11 QUEENS'\n",
      " '06 BRONX' '08 BRONX' '05 BRONX' '15 BROOKLYN' '02 BROOKLYN' '12 BRONX'\n",
      " '03 QUEENS' '06 QUEENS' '01 STATEN ISLAND' '01 BRONX' '01 QUEENS'\n",
      " '17 BROOKLYN' '11 BRONX' 'Unspecified QUEENS' '09 BROOKLYN'\n",
      " 'Unspecified MANHATTAN' 'Unspecified BROOKLYN' '07 BROOKLYN'\n",
      " 'Unspecified BRONX' '64 MANHATTAN' '81 QUEENS' '55 BROOKLYN' '83 QUEENS'\n",
      " 'Unspecified STATEN ISLAND' '28 BRONX' '80 QUEENS' '26 BRONX'\n",
      " '95 STATEN ISLAND' '82 QUEENS' '27 BRONX' '56 BROOKLYN' '84 QUEENS']\n",
      "['BROOKLYN' 'Unspecified' 'STATEN ISLAND' 'MANHATTAN' 'BRONX' 'QUEENS']\n"
     ]
    }
   ],
   "source": [
    "# Check if all Boroughs and Community Districts are represented in the Data\n",
    "# How many unique values do we have? \n",
    "\n",
    "print len(df311['Community Board'].unique())\n",
    "print df311['Community Board'].unique()\n",
    "print df311['Borough'].unique()"
   ]
  },
  {
   "cell_type": "markdown",
   "metadata": {
    "collapsed": false
   },
   "source": [
    "There are 77 unique values for the Community Boards and 6 for the Boroughs.\n",
    "As we checked previously on the ComDist data frame, there should be only 59 Community Districts and 5 Boroughs.\n",
    "The reason we have so many is that some of them are \"unspecified\" or other types of invalid entries. So, lets get rid of those. "
   ]
  },
  {
   "cell_type": "code",
   "execution_count": 10,
   "metadata": {
    "collapsed": false
   },
   "outputs": [
    {
     "name": "stdout",
     "output_type": "stream",
     "text": [
      "10187766\n",
      "8113247\n"
     ]
    }
   ],
   "source": [
    "invalid_entries = ['0 Unspecified', 'Unspecified QUEENS', 'Unspecified MANHATTAN',\n",
    "                   'Unspecified BROOKLYN', 'Unspecified BRONX', 'Unspecified STATEN ISLAND',\n",
    "                  '64 MANHATTAN', '81 QUEENS', '55 BROOKLYN', '83 QUEENS', '28 BRONX', '80 QUEENS',\n",
    "                  '26 BRONX', '95 STATEN ISLAND']\n",
    "print len(df311)\n",
    "\n",
    "df311_clean = df311[~df311['Community Board'].isin(invalid_entries)]\n",
    "\n",
    "print len(df311_clean)"
   ]
  },
  {
   "cell_type": "code",
   "execution_count": 11,
   "metadata": {
    "collapsed": false
   },
   "outputs": [
    {
     "name": "stdout",
     "output_type": "stream",
     "text": [
      "63\n",
      "['13 BROOKLYN' '18 BROOKLYN' '12 BROOKLYN' '02 STATEN ISLAND'\n",
      " '08 MANHATTAN' '06 BROOKLYN' '10 BRONX' '06 MANHATTAN' '04 BROOKLYN'\n",
      " '04 QUEENS' '09 MANHATTAN' '14 BROOKLYN' '05 MANHATTAN' '02 MANHATTAN'\n",
      " '10 QUEENS' '07 QUEENS' '02 QUEENS' '11 BROOKLYN' '05 QUEENS'\n",
      " '05 BROOKLYN' '09 QUEENS' '12 MANHATTAN' '01 BROOKLYN' '11 MANHATTAN'\n",
      " '03 BRONX' '03 STATEN ISLAND' '08 BROOKLYN' '03 BROOKLYN' '07 MANHATTAN'\n",
      " '10 MANHATTAN' '04 BRONX' '01 MANHATTAN' '07 BRONX' '09 BRONX'\n",
      " '03 MANHATTAN' '13 QUEENS' '02 BRONX' '12 QUEENS' '16 BROOKLYN'\n",
      " '08 QUEENS' '04 MANHATTAN' '14 QUEENS' '10 BROOKLYN' '11 QUEENS'\n",
      " '06 BRONX' '08 BRONX' '05 BRONX' '15 BROOKLYN' '02 BROOKLYN' '12 BRONX'\n",
      " '03 QUEENS' '06 QUEENS' '01 STATEN ISLAND' '01 BRONX' '01 QUEENS'\n",
      " '17 BROOKLYN' '11 BRONX' '09 BROOKLYN' '07 BROOKLYN' '82 QUEENS'\n",
      " '27 BRONX' '56 BROOKLYN' '84 QUEENS']\n",
      "['BROOKLYN' 'STATEN ISLAND' 'MANHATTAN' 'BRONX' 'QUEENS']\n"
     ]
    }
   ],
   "source": [
    "print len(df311_clean['Community Board'].unique())\n",
    "print df311_clean['Community Board'].unique()\n",
    "print df311_clean['Borough'].unique()"
   ]
  },
  {
   "cell_type": "code",
   "execution_count": 12,
   "metadata": {
    "collapsed": false
   },
   "outputs": [
    {
     "data": {
      "text/plain": [
       "22"
      ]
     },
     "execution_count": 12,
     "metadata": {},
     "output_type": "execute_result"
    }
   ],
   "source": [
    "# Check for duplicates? Are these plausible?\n",
    "df311_clean.duplicated().sum()"
   ]
  },
  {
   "cell_type": "markdown",
   "metadata": {},
   "source": [
    "Yes, the duplicates are plausible. It could have happened that someone called twice to complain or to follow up on a complain and the registry got duplicated on the database by mistake. It is good that there are not that many duplicates though. Nevertheless it i better to also get rid of them. "
   ]
  },
  {
   "cell_type": "code",
   "execution_count": 13,
   "metadata": {
    "collapsed": false
   },
   "outputs": [
    {
     "name": "stdout",
     "output_type": "stream",
     "text": [
      "8113247\n",
      "8113225\n"
     ]
    }
   ],
   "source": [
    "print len(df311_clean)\n",
    "df311_clean = df311_clean.drop_duplicates()\n",
    "print len(df311_clean)"
   ]
  },
  {
   "cell_type": "code",
   "execution_count": 14,
   "metadata": {
    "collapsed": false
   },
   "outputs": [
    {
     "data": {
      "text/plain": [
       "Unique Key             0\n",
       "Created Date           0\n",
       "Agency                 0\n",
       "Complaint Type         0\n",
       "Descriptor         30551\n",
       "Community Board        0\n",
       "Borough                0\n",
       "dtype: int64"
      ]
     },
     "execution_count": 14,
     "metadata": {},
     "output_type": "execute_result"
    }
   ],
   "source": [
    "# What about missing values? Can you detect any patterns? \n",
    "df311_clean.isnull().sum()"
   ]
  },
  {
   "cell_type": "markdown",
   "metadata": {},
   "source": [
    "Lots of Missing Values for the Descriptor."
   ]
  },
  {
   "cell_type": "code",
   "execution_count": 15,
   "metadata": {
    "collapsed": false
   },
   "outputs": [
    {
     "data": {
      "text/html": [
       "<div>\n",
       "<table border=\"1\" class=\"dataframe\">\n",
       "  <thead>\n",
       "    <tr style=\"text-align: right;\">\n",
       "      <th></th>\n",
       "      <th>Unique Key</th>\n",
       "      <th>Created Date</th>\n",
       "      <th>Agency</th>\n",
       "      <th>Complaint Type</th>\n",
       "      <th>Descriptor</th>\n",
       "      <th>Community Board</th>\n",
       "      <th>Borough</th>\n",
       "    </tr>\n",
       "  </thead>\n",
       "  <tbody>\n",
       "    <tr>\n",
       "      <th>0</th>\n",
       "      <td>31911011</td>\n",
       "      <td>11/05/2015 02:59:15 AM</td>\n",
       "      <td>DOT</td>\n",
       "      <td>Street Condition</td>\n",
       "      <td>Pothole</td>\n",
       "      <td>13 BROOKLYN</td>\n",
       "      <td>BROOKLYN</td>\n",
       "    </tr>\n",
       "    <tr>\n",
       "      <th>2</th>\n",
       "      <td>31910423</td>\n",
       "      <td>11/05/2015 02:06:51 AM</td>\n",
       "      <td>DPR</td>\n",
       "      <td>Root/Sewer/Sidewalk Condition</td>\n",
       "      <td>Trees and Sidewalks Program</td>\n",
       "      <td>18 BROOKLYN</td>\n",
       "      <td>BROOKLYN</td>\n",
       "    </tr>\n",
       "    <tr>\n",
       "      <th>3</th>\n",
       "      <td>31909924</td>\n",
       "      <td>11/05/2015 02:02:20 AM</td>\n",
       "      <td>NYPD</td>\n",
       "      <td>Illegal Parking</td>\n",
       "      <td>Blocked Hydrant</td>\n",
       "      <td>12 BROOKLYN</td>\n",
       "      <td>BROOKLYN</td>\n",
       "    </tr>\n",
       "    <tr>\n",
       "      <th>5</th>\n",
       "      <td>31914148</td>\n",
       "      <td>11/05/2015 01:55:55 AM</td>\n",
       "      <td>DOT</td>\n",
       "      <td>Highway Condition</td>\n",
       "      <td>Pothole - Highway</td>\n",
       "      <td>02 STATEN ISLAND</td>\n",
       "      <td>STATEN ISLAND</td>\n",
       "    </tr>\n",
       "    <tr>\n",
       "      <th>7</th>\n",
       "      <td>31912611</td>\n",
       "      <td>11/05/2015 01:47:12 AM</td>\n",
       "      <td>NYPD</td>\n",
       "      <td>Noise - Commercial</td>\n",
       "      <td>Loud Music/Party</td>\n",
       "      <td>08 MANHATTAN</td>\n",
       "      <td>MANHATTAN</td>\n",
       "    </tr>\n",
       "  </tbody>\n",
       "</table>\n",
       "</div>"
      ],
      "text/plain": [
       "   Unique Key            Created Date Agency                 Complaint Type  \\\n",
       "0    31911011  11/05/2015 02:59:15 AM    DOT               Street Condition   \n",
       "2    31910423  11/05/2015 02:06:51 AM    DPR  Root/Sewer/Sidewalk Condition   \n",
       "3    31909924  11/05/2015 02:02:20 AM   NYPD                Illegal Parking   \n",
       "5    31914148  11/05/2015 01:55:55 AM    DOT              Highway Condition   \n",
       "7    31912611  11/05/2015 01:47:12 AM   NYPD             Noise - Commercial   \n",
       "\n",
       "                    Descriptor   Community Board        Borough  \n",
       "0                      Pothole       13 BROOKLYN       BROOKLYN  \n",
       "2  Trees and Sidewalks Program       18 BROOKLYN       BROOKLYN  \n",
       "3              Blocked Hydrant       12 BROOKLYN       BROOKLYN  \n",
       "5            Pothole - Highway  02 STATEN ISLAND  STATEN ISLAND  \n",
       "7             Loud Music/Party      08 MANHATTAN      MANHATTAN  "
      ]
     },
     "execution_count": 15,
     "metadata": {},
     "output_type": "execute_result"
    }
   ],
   "source": [
    "# Data Editing: Is it possible to replace missing values? Is it possible to use Complaint Type \n",
    "# to fill missings in Resolution Descriptor?\n",
    "df311_clean.head()"
   ]
  },
  {
   "cell_type": "markdown",
   "metadata": {},
   "source": [
    "It would be possible to replace the missing values of the Descriptor with the Complaint Type and get a somewhat more general information aboout the Descriptor. Nevertheless, since we won't use the Descriptor in our analysis we can simply drop that column. "
   ]
  },
  {
   "cell_type": "code",
   "execution_count": 16,
   "metadata": {
    "collapsed": false
   },
   "outputs": [
    {
     "data": {
      "text/plain": [
       "Unique Key         0\n",
       "Created Date       0\n",
       "Agency             0\n",
       "Complaint Type     0\n",
       "Community Board    0\n",
       "Borough            0\n",
       "dtype: int64"
      ]
     },
     "execution_count": 16,
     "metadata": {},
     "output_type": "execute_result"
    }
   ],
   "source": [
    "df311_clean = df311_clean.drop('Descriptor', axis = 1)\n",
    "df311_clean.isnull().sum()"
   ]
  },
  {
   "cell_type": "code",
   "execution_count": 17,
   "metadata": {
    "collapsed": false
   },
   "outputs": [
    {
     "data": {
      "text/html": [
       "<div>\n",
       "<table border=\"1\" class=\"dataframe\">\n",
       "  <thead>\n",
       "    <tr style=\"text-align: right;\">\n",
       "      <th></th>\n",
       "      <th>N_Complaints</th>\n",
       "    </tr>\n",
       "    <tr>\n",
       "      <th>Community Board</th>\n",
       "      <th></th>\n",
       "    </tr>\n",
       "  </thead>\n",
       "  <tbody>\n",
       "    <tr>\n",
       "      <th>01 BRONX</th>\n",
       "      <td>74631</td>\n",
       "    </tr>\n",
       "    <tr>\n",
       "      <th>01 BROOKLYN</th>\n",
       "      <td>185057</td>\n",
       "    </tr>\n",
       "    <tr>\n",
       "      <th>01 MANHATTAN</th>\n",
       "      <td>77974</td>\n",
       "    </tr>\n",
       "    <tr>\n",
       "      <th>01 QUEENS</th>\n",
       "      <td>171484</td>\n",
       "    </tr>\n",
       "    <tr>\n",
       "      <th>01 STATEN ISLAND</th>\n",
       "      <td>182708</td>\n",
       "    </tr>\n",
       "  </tbody>\n",
       "</table>\n",
       "</div>"
      ],
      "text/plain": [
       "                  N_Complaints\n",
       "Community Board               \n",
       "01 BRONX                 74631\n",
       "01 BROOKLYN             185057\n",
       "01 MANHATTAN             77974\n",
       "01 QUEENS               171484\n",
       "01 STATEN ISLAND        182708"
      ]
     },
     "execution_count": 17,
     "metadata": {},
     "output_type": "execute_result"
    }
   ],
   "source": [
    "# Produce your result: Generate an indicator which ranks the Community District by complaint numbers \n",
    "# on the Community district level\n",
    "DistCompl = df311_clean.groupby('Community Board').count().iloc[:, 0:1]\n",
    "DistCompl.columns = ['N_Complaints']\n",
    "DistCompl.head()"
   ]
  },
  {
   "cell_type": "code",
   "execution_count": 18,
   "metadata": {
    "collapsed": false
   },
   "outputs": [
    {
     "data": {
      "text/html": [
       "<div>\n",
       "<table border=\"1\" class=\"dataframe\">\n",
       "  <thead>\n",
       "    <tr style=\"text-align: right;\">\n",
       "      <th></th>\n",
       "      <th>N_Complaints</th>\n",
       "    </tr>\n",
       "    <tr>\n",
       "      <th>Community Board</th>\n",
       "      <th></th>\n",
       "    </tr>\n",
       "  </thead>\n",
       "  <tbody>\n",
       "    <tr>\n",
       "      <th>12 MANHATTAN</th>\n",
       "      <td>268053</td>\n",
       "    </tr>\n",
       "    <tr>\n",
       "      <th>12 QUEENS</th>\n",
       "      <td>229383</td>\n",
       "    </tr>\n",
       "    <tr>\n",
       "      <th>03 BROOKLYN</th>\n",
       "      <td>197305</td>\n",
       "    </tr>\n",
       "    <tr>\n",
       "      <th>07 QUEENS</th>\n",
       "      <td>195961</td>\n",
       "    </tr>\n",
       "    <tr>\n",
       "      <th>17 BROOKLYN</th>\n",
       "      <td>191720</td>\n",
       "    </tr>\n",
       "  </tbody>\n",
       "</table>\n",
       "</div>"
      ],
      "text/plain": [
       "                 N_Complaints\n",
       "Community Board              \n",
       "12 MANHATTAN           268053\n",
       "12 QUEENS              229383\n",
       "03 BROOKLYN            197305\n",
       "07 QUEENS              195961\n",
       "17 BROOKLYN            191720"
      ]
     },
     "execution_count": 18,
     "metadata": {},
     "output_type": "execute_result"
    }
   ],
   "source": [
    "DistCompl = DistCompl.sort_values(by = 'N_Complaints', ascending = False)\n",
    "DistCompl.head()"
   ]
  },
  {
   "cell_type": "code",
   "execution_count": 19,
   "metadata": {
    "collapsed": true
   },
   "outputs": [],
   "source": [
    "# Save reduced data frame (Community District level)"
   ]
  },
  {
   "cell_type": "markdown",
   "metadata": {},
   "source": [
    "# 4. Think about the interpretation of your results?\n",
    "What do you have to keep in mind when interpreting your results? Are they generable? Does the way the data is collected influence your results? To better inform city agancies it might be good to explore in more detail the underlying dempgraphics/infrastructure of a Community District becasue this might influence 311 calls. You can do this by merging external data on the Community District level to your analysis data. "
   ]
  },
  {
   "cell_type": "code",
   "execution_count": 20,
   "metadata": {
    "collapsed": false
   },
   "outputs": [],
   "source": [
    "# Population by Community District\n",
    "df_pop = pd.read_csv(PUIdata + \"/Final_Demographics.csv\")"
   ]
  },
  {
   "cell_type": "code",
   "execution_count": 21,
   "metadata": {
    "collapsed": false
   },
   "outputs": [
    {
     "data": {
      "text/plain": [
       "(59, 158)"
      ]
     },
     "execution_count": 21,
     "metadata": {},
     "output_type": "execute_result"
    }
   ],
   "source": [
    "df_pop.shape"
   ]
  },
  {
   "cell_type": "code",
   "execution_count": 22,
   "metadata": {
    "collapsed": false
   },
   "outputs": [
    {
     "data": {
      "text/plain": [
       "Index([u'FIPS', u'cd_id', u'Total Population',\n",
       "       u'Population Density (per sq. mile)', u'% Total Population: Male',\n",
       "       u'% Total Population: 18 to 24 Years',\n",
       "       u'% Total Population: 25 to 34 Years',\n",
       "       u'% Total Population: 35 to 44 Years',\n",
       "       u'% Population 5 Years And Over: Speak Only English',\n",
       "       u'% Population 5 Years And Over: Spanish or Spanish Creole',\n",
       "       u'% Population 5 Years And Over: Spanish or Spanish Creole: Speak English \"very Well\"',\n",
       "       u'% Population 5 Years And Over: Spanish or Spanish Creole: Speak English Less Than \"very Well\"',\n",
       "       u'Population 25 Years and over:',\n",
       "       u'Population 25 Years and over: Less Than High School',\n",
       "       u'Population 25 Years and over: High School Graduate (includes equivalency)',\n",
       "       u'Population 25 Years and over: Some college',\n",
       "       u'Population 25 Years and over: Bachelor's degree',\n",
       "       u'Population 25 Years and over: Master's degree',\n",
       "       u'Population 25 Years and over: Professional school degree',\n",
       "       u'Population 25 Years and over: Doctorate degree',\n",
       "       u'% Population 25 Years and over: Less Than High School',\n",
       "       u'% Population 25 Years and over: High School Graduate (includes equivalency)',\n",
       "       u'% Population 25 Years and over: Some college',\n",
       "       u'% Population 25 Years and over: Bachelor's degree',\n",
       "       u'% Population 25 Years and over: Master's degree',\n",
       "       u'% Population 25 Years and over: Professional school degree',\n",
       "       u'% Population 25 Years and over: Doctorate degree',\n",
       "       u'Population 25 Years and over:.1',\n",
       "       u'Population 25 Years and over: Less Than High School.1',\n",
       "       u'Population 25 Years and over: High School Graduate or more (includes equivalency)',\n",
       "       u'Population 25 Years and over: Some college or more',\n",
       "       u'Population 25 Years and over: Bachelor's degree or more',\n",
       "       u'Population 25 Years and over: Master's degree or more',\n",
       "       u'Population 25 Years and over: Professional school degree or more',\n",
       "       u'Population 25 Years and over: Doctorate degree.1',\n",
       "       u'% Population 25 Years and over: Less Than High School.1',\n",
       "       u'% Population 25 Years and over: High School Graduate or more (includes equivalency)',\n",
       "       u'% Population 25 Years and over: Some college or more',\n",
       "       u'% Population 25 Years and over: Bachelor's degree or more',\n",
       "       u'% Population 25 Years and over: Master's degree or more',\n",
       "       u'% Population 25 Years and over: Professional school degree or more',\n",
       "       u'% Population 25 Years and over: Doctorate degree.1',\n",
       "       u'Population 3 Years and over:',\n",
       "       u'Population 3 Years and over: Enrolled in School',\n",
       "       u'Population 3 Years and over: Not Enrolled in School',\n",
       "       u'% Population 3 Years and over: Enrolled in School',\n",
       "       u'% Population 3 Years and over: Not Enrolled in School',\n",
       "       u'Population 3 Years and over Enrolled In School',\n",
       "       u'Population 3 Years and over Enrolled In School: Public School',\n",
       "       u'Population 3 Years and over Enrolled In School: Public School: Pre-school'],\n",
       "      dtype='object')"
      ]
     },
     "execution_count": 22,
     "metadata": {},
     "output_type": "execute_result"
    }
   ],
   "source": [
    "# Check variables in file\n",
    "df_pop.columns[:50]"
   ]
  },
  {
   "cell_type": "code",
   "execution_count": 23,
   "metadata": {
    "collapsed": false
   },
   "outputs": [
    {
     "data": {
      "text/plain": [
       "Index([u'Population 3 Years and over Enrolled In School: Public School: K-8',\n",
       "       u'Population 3 Years and over Enrolled In School: Public School: 9-12',\n",
       "       u'Population 3 Years and over Enrolled In School: Public School: College',\n",
       "       u'Population 3 Years and over Enrolled In School: Private School',\n",
       "       u'Population 3 Years and over Enrolled In School: Private School: Pre-school',\n",
       "       u'Population 3 Years and over Enrolled In School: Private School: K-8',\n",
       "       u'Population 3 Years and over Enrolled In School: Private School: 9-12',\n",
       "       u'Population 3 Years and over Enrolled In School: Private School: College',\n",
       "       u'% Population 3 Years and over Enrolled In School: Public School',\n",
       "       u'% Population 3 Years and over Enrolled In School: Public School: Pre-school',\n",
       "       u'% Population 3 Years and over Enrolled In School: Public School: K-8',\n",
       "       u'% Population 3 Years and over Enrolled In School: Public School: 9-12',\n",
       "       u'% Population 3 Years and over Enrolled In School: Public School: College',\n",
       "       u'% Population 3 Years and over Enrolled In School: Private School',\n",
       "       u'% Population 3 Years and over Enrolled In School: Private School: Pre-school',\n",
       "       u'% Population 3 Years and over Enrolled In School: Private School: K-8',\n",
       "       u'% Population 3 Years and over Enrolled In School: Private School: 9-12',\n",
       "       u'% Population 3 Years and over Enrolled In School: Private School: College',\n",
       "       u'Employed civilian Population 16 Years and over:',\n",
       "       u'Employed civilian Population 16 Years and over: Management, business, and financial operations  occupations',\n",
       "       u'Employed civilian Population 16 Years and over: Professional and related occupations',\n",
       "       u'Employed civilian Population 16 Years and over: Healthcare support occupations',\n",
       "       u'Employed civilian Population 16 Years and over: Protective service occupations',\n",
       "       u'Employed civilian Population 16 Years and over: Food preparation and serving related occupations',\n",
       "       u'Employed civilian Population 16 Years and over: Building and grounds cleaning and maintenance  occupations',\n",
       "       u'Employed civilian Population 16 Years and over: Personal care and service occupations',\n",
       "       u'Employed civilian Population 16 Years and over: Sales and related occupations',\n",
       "       u'Employed civilian Population 16 Years and over: Office and administrative support occupations',\n",
       "       u'Employed civilian Population 16 Years and over: Farming, fishing, and forestry occupations',\n",
       "       u'Employed civilian Population 16 Years and over: Construction, extraction, and maintenance  occupations',\n",
       "       u'Employed civilian Population 16 Years and over: Production occupations',\n",
       "       u'Employed civilian Population 16 Years and over: Transportation and material moving occupations',\n",
       "       u'% Employed civilian Population 16 Years and over: Management, business, and financial operations  occupations',\n",
       "       u'% Employed civilian Population 16 Years and over: Professional and related occupations',\n",
       "       u'% Employed civilian Population 16 Years and over: Healthcare support occupations',\n",
       "       u'% Employed civilian Population 16 Years and over: Protective service occupations',\n",
       "       u'% Employed civilian Population 16 Years and over: Food preparation and serving related occupations',\n",
       "       u'% Employed civilian Population 16 Years and over: Building and grounds cleaning and maintenance  occupations',\n",
       "       u'% Employed civilian Population 16 Years and over: Personal care and service occupations',\n",
       "       u'% Employed civilian Population 16 Years and over: Sales and related occupations',\n",
       "       u'% Employed civilian Population 16 Years and over: Office and administrative support occupations',\n",
       "       u'% Employed civilian Population 16 Years and over: Farming, fishing, and forestry occupations',\n",
       "       u'% Employed civilian Population 16 Years and over: Construction, extraction, and maintenance  occupations',\n",
       "       u'% Employed civilian Population 16 Years and over: Production occupations',\n",
       "       u'% Employed civilian Population 16 Years and over: Transportation and material moving occupations',\n",
       "       u'Employed Civilian Population 16 Years And Over:',\n",
       "       u'Employed Civilian Population 16 Years And Over: Private Sector',\n",
       "       u'Employed Civilian Population 16 Years And Over: Public Sector',\n",
       "       u'Employed Civilian Population 16 Years And Over: Self-Employed (incorporated and not incorporated)',\n",
       "       u'Employed Civilian Population 16 Years And Over: Private Non-Profit'],\n",
       "      dtype='object')"
      ]
     },
     "execution_count": 23,
     "metadata": {},
     "output_type": "execute_result"
    }
   ],
   "source": [
    "df_pop.columns[50:100]"
   ]
  },
  {
   "cell_type": "code",
   "execution_count": 24,
   "metadata": {
    "collapsed": false
   },
   "outputs": [
    {
     "data": {
      "text/plain": [
       "Index([u'Employed Civilian Population 16 Years And Over: Unpaid Family Workers',\n",
       "       u'% Employed Civilian Population 16 Years And Over: Private Sector',\n",
       "       u'% Employed Civilian Population 16 Years And Over: Public Sector',\n",
       "       u'% Employed Civilian Population 16 Years And Over: Self-Employed (incorporated and not incorporated)',\n",
       "       u'% Employed Civilian Population 16 Years And Over: Private Non-Profit',\n",
       "       u'% Employed Civilian Population 16 Years And Over: Unpaid Family Workers',\n",
       "       u'Households:', u'Households: Less than $10,000',\n",
       "       u'Households: $10,000 to $14,999', u'Households: $15,000 to $19,999',\n",
       "       u'Households: $20,000 to $24,999', u'Households: $25,000 to $29,999',\n",
       "       u'Households: $30,000 to $34,999', u'Households: $35,000 to $39,999',\n",
       "       u'Households: $40,000 to $44,999', u'Households: $45,000 to $49,999',\n",
       "       u'Households: $50,000 to $59,999', u'Households: $60,000 to $74,999',\n",
       "       u'Households: $75,000 to $99,999', u'Households: $100,000 to $124,999',\n",
       "       u'Households: $125,000 to $149,999',\n",
       "       u'Households: $150,000 to $199,999', u'Households: $200,000 or More',\n",
       "       u'% Households: Less than $10,000', u'% Households: $10,000 to $14,999',\n",
       "       u'% Households: $15,000 to $19,999',\n",
       "       u'% Households: $20,000 to $24,999',\n",
       "       u'% Households: $25,000 to $29,999',\n",
       "       u'% Households: $30,000 to $34,999',\n",
       "       u'% Households: $35,000 to $39,999',\n",
       "       u'% Households: $40,000 to $44,999',\n",
       "       u'% Households: $45,000 to $49,999',\n",
       "       u'% Households: $50,000 to $59,999',\n",
       "       u'% Households: $60,000 to $74,999',\n",
       "       u'% Households: $75,000 to $99,999',\n",
       "       u'% Households: $100,000 to $124,999',\n",
       "       u'% Households: $125,000 to $149,999',\n",
       "       u'% Households: $150,000 to $199,999',\n",
       "       u'% Households: $200,000 or More',\n",
       "       u'Median household income (In 2014 Inflation Adjusted Dollars)',\n",
       "       u'Per capita income (In 2014 Inflation Adjusted Dollars)',\n",
       "       u'Employed Civilian Population 16 Years And Over:.1',\n",
       "       u'Employed Civilian Population 16 Years And Over: Management, professional, and related occupations',\n",
       "       u'Employed Civilian Population 16 Years And Over: Service occupations',\n",
       "       u'Employed Civilian Population 16 Years And Over: Sales and office occupations',\n",
       "       u'Employed Civilian Population 16 Years And Over: Farming, fishing, and forestry occupations',\n",
       "       u'Employed Civilian Population 16 Years And Over: Construction, extraction, and maintenance  occupations',\n",
       "       u'Employed Civilian Population 16 Years And Over: Production, transportation, and material moving  occupations',\n",
       "       u'Employed Civilian Population 16 Years And Over: Production, transportation, and material moving  occupations: Production occupations',\n",
       "       u'Employed Civilian Population 16 Years And Over: Production, transportation, and material moving  occupations: Transportation and material moving occupations',\n",
       "       u'% Employed Civilian Population 16 Years And Over: Management, professional, and related occupations',\n",
       "       u'% Employed Civilian Population 16 Years And Over: Service occupations',\n",
       "       u'% Employed Civilian Population 16 Years And Over: Sales and office occupations',\n",
       "       u'% Employed Civilian Population 16 Years And Over: Farming, fishing, and forestry occupations',\n",
       "       u'% Employed Civilian Population 16 Years And Over: Construction, extraction, and maintenance  occupations',\n",
       "       u'% Employed Civilian Population 16 Years And Over: Production, transportation, and material moving  occupations',\n",
       "       u'% Employed Civilian Population 16 Years And Over: Production, transportation, and material moving  occupations: Production occupations',\n",
       "       u'% Employed Civilian Population 16 Years And Over: Production, transportation, and material moving  occupations: Transportation and material moving occupations'],\n",
       "      dtype='object')"
      ]
     },
     "execution_count": 24,
     "metadata": {},
     "output_type": "execute_result"
    }
   ],
   "source": [
    "df_pop.columns[100:]"
   ]
  },
  {
   "cell_type": "code",
   "execution_count": 25,
   "metadata": {
    "collapsed": false
   },
   "outputs": [
    {
     "data": {
      "text/plain": [
       "59"
      ]
     },
     "execution_count": 25,
     "metadata": {},
     "output_type": "execute_result"
    }
   ],
   "source": [
    "# How many community districts are in file? \n",
    "len(df_pop['cd_id'].unique())"
   ]
  },
  {
   "cell_type": "code",
   "execution_count": 26,
   "metadata": {
    "collapsed": false
   },
   "outputs": [
    {
     "data": {
      "text/html": [
       "<div>\n",
       "<table border=\"1\" class=\"dataframe\">\n",
       "  <thead>\n",
       "    <tr style=\"text-align: right;\">\n",
       "      <th></th>\n",
       "      <th>cd_id</th>\n",
       "      <th>FIPS</th>\n",
       "      <th>Per capita income (In 2014 Inflation Adjusted Dollars)</th>\n",
       "    </tr>\n",
       "  </thead>\n",
       "  <tbody>\n",
       "    <tr>\n",
       "      <th>0</th>\n",
       "      <td>BX08</td>\n",
       "      <td>3603701</td>\n",
       "      <td>30730</td>\n",
       "    </tr>\n",
       "    <tr>\n",
       "      <th>1</th>\n",
       "      <td>BX12</td>\n",
       "      <td>3603702</td>\n",
       "      <td>21523</td>\n",
       "    </tr>\n",
       "    <tr>\n",
       "      <th>2</th>\n",
       "      <td>BX10</td>\n",
       "      <td>3603703</td>\n",
       "      <td>28586</td>\n",
       "    </tr>\n",
       "    <tr>\n",
       "      <th>3</th>\n",
       "      <td>BX11</td>\n",
       "      <td>3603704</td>\n",
       "      <td>22714</td>\n",
       "    </tr>\n",
       "    <tr>\n",
       "      <th>4</th>\n",
       "      <td>BX03</td>\n",
       "      <td>3603705</td>\n",
       "      <td>12662</td>\n",
       "    </tr>\n",
       "  </tbody>\n",
       "</table>\n",
       "</div>"
      ],
      "text/plain": [
       "  cd_id     FIPS  Per capita income (In 2014 Inflation Adjusted Dollars)\n",
       "0  BX08  3603701                                              30730     \n",
       "1  BX12  3603702                                              21523     \n",
       "2  BX10  3603703                                              28586     \n",
       "3  BX11  3603704                                              22714     \n",
       "4  BX03  3603705                                              12662     "
      ]
     },
     "execution_count": 26,
     "metadata": {},
     "output_type": "execute_result"
    }
   ],
   "source": [
    "# Manipulate data to get some information on demographics by Community District. \n",
    "# Think about who might be more likely to call 311\n",
    "# Analysing income:\n",
    "dfpop = df_pop[['cd_id', 'FIPS', 'Per capita income (In 2014 Inflation Adjusted Dollars)']]\n",
    "dfpop.head()"
   ]
  },
  {
   "cell_type": "code",
   "execution_count": 27,
   "metadata": {
    "collapsed": false
   },
   "outputs": [
    {
     "data": {
      "text/plain": [
       "array(['BX08', 'BX12', 'BX10', 'BX11', 'BX03', 'BX06', 'BX07', 'BX05',\n",
       "       'BX04', 'BX09', 'BX01', 'BX02', 'MN12', 'MN09', 'MN10', 'MN11111',\n",
       "       'MN08', 'MN07', 'MN05', 'MN04', 'MN06', 'MN03', 'MN01', 'MN02',\n",
       "       'SI03', 'SI02', 'SI01', 'BK01', 'BK04', 'BK03', 'BK02', 'BK06',\n",
       "       'BK08', 'BK16', 'BK05', 'BK18', 'BK17', 'BK09', 'BK07', 'BK10',\n",
       "       'BK12', 'BK14', 'BK15', 'BK11', 'BK13', 'QN01', 'QN03', 'QN07',\n",
       "       'QN11', 'QN13', 'QN08', 'QN04', 'QN06', 'QN02', 'QN05', 'QN09',\n",
       "       'QN12', 'QN10', 'QN14'], dtype=object)"
      ]
     },
     "execution_count": 27,
     "metadata": {},
     "output_type": "execute_result"
    }
   ],
   "source": [
    "df_pop['cd_id'].unique()"
   ]
  },
  {
   "cell_type": "code",
   "execution_count": 28,
   "metadata": {
    "collapsed": false
   },
   "outputs": [],
   "source": [
    "# Infrastructure by Community District\n",
    "df_infr = pd.read_csv(PUIdata + \"/ACS_Computer_Use_and_Internet_2014_1Year_Estimate.csv\")"
   ]
  },
  {
   "cell_type": "code",
   "execution_count": 29,
   "metadata": {
    "collapsed": false
   },
   "outputs": [
    {
     "data": {
      "text/plain": [
       "Index([u'FIPS', u'Geographic Identifier', u'Qualifying Name', u'Households',\n",
       "       u'Households: With An Internet Subscription',\n",
       "       u'Households: Dial-Up Alone', u'Households: Dsl',\n",
       "       u'Households: With Mobile Broadband',\n",
       "       u'Households: Without Mobile Broadband', u'Households: Cable Modem',\n",
       "       u'Households: With Mobile Broadband.1',\n",
       "       u'Households: Without Mobile Broadband.1', u'Households: Fiber-Optic',\n",
       "       u'Households: With Mobile Broadband.2',\n",
       "       u'Households: Without Mobile Broadband.2',\n",
       "       u'Households: Satellite Internet Service',\n",
       "       u'Households: With Mobile Broadband.3',\n",
       "       u'Households: Without Mobile Broadband.3',\n",
       "       u'Households: Two or More Fixed Broadband Types, or Other',\n",
       "       u'Households: With Mobile Broadband.4',\n",
       "       u'Households: Without Mobile Broadband.4',\n",
       "       u'Households: Mobile Broadband Alone or With Dialup',\n",
       "       u'Households: Internet Access Without A Subscription',\n",
       "       u'Households: No Internet Access',\n",
       "       u'% Households: With An Internet Subscription', u'Households.1',\n",
       "       u'Households: Has A Computer',\n",
       "       u'Households: With Dial-Up Internet Subscription Alone',\n",
       "       u'Households: With A Broadband Internet Subscription',\n",
       "       u'Households: Without An Internet Subscription',\n",
       "       u'Households: No Computer'],\n",
       "      dtype='object')"
      ]
     },
     "execution_count": 29,
     "metadata": {},
     "output_type": "execute_result"
    }
   ],
   "source": [
    "# Check variables in file\n",
    "df_infr.columns"
   ]
  },
  {
   "cell_type": "code",
   "execution_count": 30,
   "metadata": {
    "collapsed": false
   },
   "outputs": [
    {
     "data": {
      "text/plain": [
       "55"
      ]
     },
     "execution_count": 30,
     "metadata": {},
     "output_type": "execute_result"
    }
   ],
   "source": [
    "# How many community districts are in file? \n",
    "len(df_infr['Qualifying Name'].unique())"
   ]
  },
  {
   "cell_type": "code",
   "execution_count": 31,
   "metadata": {
    "collapsed": false
   },
   "outputs": [
    {
     "data": {
      "text/html": [
       "<div>\n",
       "<table border=\"1\" class=\"dataframe\">\n",
       "  <thead>\n",
       "    <tr style=\"text-align: right;\">\n",
       "      <th></th>\n",
       "      <th>Households</th>\n",
       "      <th>Households: With An Internet Subscription</th>\n",
       "      <th>Households: Dial-Up Alone</th>\n",
       "      <th>Households: Dsl</th>\n",
       "      <th>Households: With Mobile Broadband</th>\n",
       "      <th>Households: Without Mobile Broadband</th>\n",
       "      <th>Households: Cable Modem</th>\n",
       "      <th>Households: With Mobile Broadband.1</th>\n",
       "      <th>Households: Without Mobile Broadband.1</th>\n",
       "      <th>Households: Fiber-Optic</th>\n",
       "      <th>Households: With Mobile Broadband.2</th>\n",
       "      <th>Households: Without Mobile Broadband.2</th>\n",
       "      <th>Households: Satellite Internet Service</th>\n",
       "      <th>Households: With Mobile Broadband.3</th>\n",
       "      <th>Households: Without Mobile Broadband.3</th>\n",
       "      <th>Households: Two or More Fixed Broadband Types, or Other</th>\n",
       "      <th>Households: With Mobile Broadband.4</th>\n",
       "    </tr>\n",
       "  </thead>\n",
       "  <tbody>\n",
       "    <tr>\n",
       "      <th>0</th>\n",
       "      <td>42035</td>\n",
       "      <td>31795</td>\n",
       "      <td>444</td>\n",
       "      <td>2813</td>\n",
       "      <td>946</td>\n",
       "      <td>1867</td>\n",
       "      <td>19178</td>\n",
       "      <td>10433</td>\n",
       "      <td>8745</td>\n",
       "      <td>939</td>\n",
       "      <td>433</td>\n",
       "      <td>506</td>\n",
       "      <td>75</td>\n",
       "      <td>37</td>\n",
       "      <td>38</td>\n",
       "      <td>6178</td>\n",
       "      <td>3510</td>\n",
       "    </tr>\n",
       "    <tr>\n",
       "      <th>1</th>\n",
       "      <td>44830</td>\n",
       "      <td>32243</td>\n",
       "      <td>178</td>\n",
       "      <td>849</td>\n",
       "      <td>405</td>\n",
       "      <td>444</td>\n",
       "      <td>18653</td>\n",
       "      <td>5577</td>\n",
       "      <td>13076</td>\n",
       "      <td>6216</td>\n",
       "      <td>2358</td>\n",
       "      <td>3858</td>\n",
       "      <td>131</td>\n",
       "      <td>0</td>\n",
       "      <td>131</td>\n",
       "      <td>5288</td>\n",
       "      <td>2146</td>\n",
       "    </tr>\n",
       "    <tr>\n",
       "      <th>2</th>\n",
       "      <td>47050</td>\n",
       "      <td>32729</td>\n",
       "      <td>158</td>\n",
       "      <td>1863</td>\n",
       "      <td>398</td>\n",
       "      <td>1465</td>\n",
       "      <td>20044</td>\n",
       "      <td>6377</td>\n",
       "      <td>13667</td>\n",
       "      <td>3490</td>\n",
       "      <td>1200</td>\n",
       "      <td>2290</td>\n",
       "      <td>0</td>\n",
       "      <td>0</td>\n",
       "      <td>0</td>\n",
       "      <td>6535</td>\n",
       "      <td>3450</td>\n",
       "    </tr>\n",
       "    <tr>\n",
       "      <th>3</th>\n",
       "      <td>44922</td>\n",
       "      <td>32003</td>\n",
       "      <td>141</td>\n",
       "      <td>1478</td>\n",
       "      <td>474</td>\n",
       "      <td>1004</td>\n",
       "      <td>17917</td>\n",
       "      <td>5624</td>\n",
       "      <td>12293</td>\n",
       "      <td>5435</td>\n",
       "      <td>2272</td>\n",
       "      <td>3163</td>\n",
       "      <td>308</td>\n",
       "      <td>241</td>\n",
       "      <td>67</td>\n",
       "      <td>5723</td>\n",
       "      <td>2137</td>\n",
       "    </tr>\n",
       "    <tr>\n",
       "      <th>4</th>\n",
       "      <td>57556</td>\n",
       "      <td>35503</td>\n",
       "      <td>88</td>\n",
       "      <td>1297</td>\n",
       "      <td>651</td>\n",
       "      <td>646</td>\n",
       "      <td>15847</td>\n",
       "      <td>6690</td>\n",
       "      <td>9157</td>\n",
       "      <td>1510</td>\n",
       "      <td>695</td>\n",
       "      <td>815</td>\n",
       "      <td>194</td>\n",
       "      <td>111</td>\n",
       "      <td>83</td>\n",
       "      <td>15182</td>\n",
       "      <td>6760</td>\n",
       "    </tr>\n",
       "  </tbody>\n",
       "</table>\n",
       "</div>"
      ],
      "text/plain": [
       "   Households  Households: With An Internet Subscription  \\\n",
       "0       42035                                      31795   \n",
       "1       44830                                      32243   \n",
       "2       47050                                      32729   \n",
       "3       44922                                      32003   \n",
       "4       57556                                      35503   \n",
       "\n",
       "   Households: Dial-Up Alone  Households: Dsl  \\\n",
       "0                        444             2813   \n",
       "1                        178              849   \n",
       "2                        158             1863   \n",
       "3                        141             1478   \n",
       "4                         88             1297   \n",
       "\n",
       "   Households: With Mobile Broadband  Households: Without Mobile Broadband  \\\n",
       "0                                946                                  1867   \n",
       "1                                405                                   444   \n",
       "2                                398                                  1465   \n",
       "3                                474                                  1004   \n",
       "4                                651                                   646   \n",
       "\n",
       "   Households: Cable Modem  Households: With Mobile Broadband.1  \\\n",
       "0                    19178                                10433   \n",
       "1                    18653                                 5577   \n",
       "2                    20044                                 6377   \n",
       "3                    17917                                 5624   \n",
       "4                    15847                                 6690   \n",
       "\n",
       "   Households: Without Mobile Broadband.1  Households: Fiber-Optic  \\\n",
       "0                                    8745                      939   \n",
       "1                                   13076                     6216   \n",
       "2                                   13667                     3490   \n",
       "3                                   12293                     5435   \n",
       "4                                    9157                     1510   \n",
       "\n",
       "   Households: With Mobile Broadband.2  \\\n",
       "0                                  433   \n",
       "1                                 2358   \n",
       "2                                 1200   \n",
       "3                                 2272   \n",
       "4                                  695   \n",
       "\n",
       "   Households: Without Mobile Broadband.2  \\\n",
       "0                                     506   \n",
       "1                                    3858   \n",
       "2                                    2290   \n",
       "3                                    3163   \n",
       "4                                     815   \n",
       "\n",
       "   Households: Satellite Internet Service  \\\n",
       "0                                      75   \n",
       "1                                     131   \n",
       "2                                       0   \n",
       "3                                     308   \n",
       "4                                     194   \n",
       "\n",
       "   Households: With Mobile Broadband.3  \\\n",
       "0                                   37   \n",
       "1                                    0   \n",
       "2                                    0   \n",
       "3                                  241   \n",
       "4                                  111   \n",
       "\n",
       "   Households: Without Mobile Broadband.3  \\\n",
       "0                                      38   \n",
       "1                                     131   \n",
       "2                                       0   \n",
       "3                                      67   \n",
       "4                                      83   \n",
       "\n",
       "   Households: Two or More Fixed Broadband Types, or Other  \\\n",
       "0                                               6178         \n",
       "1                                               5288         \n",
       "2                                               6535         \n",
       "3                                               5723         \n",
       "4                                              15182         \n",
       "\n",
       "   Households: With Mobile Broadband.4  \n",
       "0                                 3510  \n",
       "1                                 2146  \n",
       "2                                 3450  \n",
       "3                                 2137  \n",
       "4                                 6760  "
      ]
     },
     "execution_count": 31,
     "metadata": {},
     "output_type": "execute_result"
    }
   ],
   "source": [
    "# Manipulate data to get some information on internet/broadband usage by Community District\n",
    "# Aggregate the mobile subscription data\n",
    "df_infr.iloc[:5, 3:20]"
   ]
  },
  {
   "cell_type": "code",
   "execution_count": 32,
   "metadata": {
    "collapsed": false
   },
   "outputs": [
    {
     "data": {
      "text/html": [
       "<div>\n",
       "<table border=\"1\" class=\"dataframe\">\n",
       "  <thead>\n",
       "    <tr style=\"text-align: right;\">\n",
       "      <th></th>\n",
       "      <th>Qualifying Name</th>\n",
       "      <th>FIPS</th>\n",
       "      <th>Households</th>\n",
       "      <th>Households: No Internet Access</th>\n",
       "      <th>Households: Internet Access Without A Subscription</th>\n",
       "      <th>Households: With A Broadband Internet Subscription</th>\n",
       "      <th>Households: With Dial-Up Internet Subscription Alone</th>\n",
       "    </tr>\n",
       "  </thead>\n",
       "  <tbody>\n",
       "    <tr>\n",
       "      <th>0</th>\n",
       "      <td>NYC-Bronx Community District 8--Riverdale, New...</td>\n",
       "      <td>3603701</td>\n",
       "      <td>42035</td>\n",
       "      <td>8121</td>\n",
       "      <td>2119</td>\n",
       "      <td>30943</td>\n",
       "      <td>404</td>\n",
       "    </tr>\n",
       "    <tr>\n",
       "      <th>1</th>\n",
       "      <td>NYC-Bronx Community District 12--Wakefield, Ne...</td>\n",
       "      <td>3603702</td>\n",
       "      <td>44830</td>\n",
       "      <td>10696</td>\n",
       "      <td>1891</td>\n",
       "      <td>31435</td>\n",
       "      <td>178</td>\n",
       "    </tr>\n",
       "    <tr>\n",
       "      <th>2</th>\n",
       "      <td>NYC-Bronx Community District 10--Co-op City, N...</td>\n",
       "      <td>3603703</td>\n",
       "      <td>47050</td>\n",
       "      <td>11439</td>\n",
       "      <td>2882</td>\n",
       "      <td>32333</td>\n",
       "      <td>158</td>\n",
       "    </tr>\n",
       "    <tr>\n",
       "      <th>3</th>\n",
       "      <td>NYC-Bronx Community District 11--Pelham Parkwa...</td>\n",
       "      <td>3603704</td>\n",
       "      <td>44922</td>\n",
       "      <td>10197</td>\n",
       "      <td>2722</td>\n",
       "      <td>31278</td>\n",
       "      <td>122</td>\n",
       "    </tr>\n",
       "    <tr>\n",
       "      <th>4</th>\n",
       "      <td>NYC-Bronx Community District 3 &amp; 6--Belmont, N...</td>\n",
       "      <td>3603705</td>\n",
       "      <td>57556</td>\n",
       "      <td>18741</td>\n",
       "      <td>3312</td>\n",
       "      <td>33408</td>\n",
       "      <td>88</td>\n",
       "    </tr>\n",
       "  </tbody>\n",
       "</table>\n",
       "</div>"
      ],
      "text/plain": [
       "                                     Qualifying Name     FIPS  Households  \\\n",
       "0  NYC-Bronx Community District 8--Riverdale, New...  3603701       42035   \n",
       "1  NYC-Bronx Community District 12--Wakefield, Ne...  3603702       44830   \n",
       "2  NYC-Bronx Community District 10--Co-op City, N...  3603703       47050   \n",
       "3  NYC-Bronx Community District 11--Pelham Parkwa...  3603704       44922   \n",
       "4  NYC-Bronx Community District 3 & 6--Belmont, N...  3603705       57556   \n",
       "\n",
       "   Households: No Internet Access  \\\n",
       "0                            8121   \n",
       "1                           10696   \n",
       "2                           11439   \n",
       "3                           10197   \n",
       "4                           18741   \n",
       "\n",
       "   Households: Internet Access Without A Subscription  \\\n",
       "0                                               2119    \n",
       "1                                               1891    \n",
       "2                                               2882    \n",
       "3                                               2722    \n",
       "4                                               3312    \n",
       "\n",
       "   Households: With A Broadband Internet Subscription  \\\n",
       "0                                              30943    \n",
       "1                                              31435    \n",
       "2                                              32333    \n",
       "3                                              31278    \n",
       "4                                              33408    \n",
       "\n",
       "   Households: With Dial-Up Internet Subscription Alone  \n",
       "0                                                404     \n",
       "1                                                178     \n",
       "2                                                158     \n",
       "3                                                122     \n",
       "4                                                 88     "
      ]
     },
     "execution_count": 32,
     "metadata": {},
     "output_type": "execute_result"
    }
   ],
   "source": [
    "# Aggregate internet type by high and low connections\n",
    "infra = df_infr[['Qualifying Name', 'FIPS','Households', 'Households: No Internet Access', 'Households: Internet Access Without A Subscription',\n",
    "                'Households: With A Broadband Internet Subscription', 'Households: With Dial-Up Internet Subscription Alone' ]]\n",
    "infra.head()"
   ]
  },
  {
   "cell_type": "markdown",
   "metadata": {},
   "source": [
    "# 5. Inform your results by linking datasets\n",
    "Now you want to link the three data frames to produce summary statistics for Community Districts which show a high number of complaints vs. Community Districts which show a lower number of complaints. Please keep in mind that the identifiers used for the linkage (Community Dostrict IDs) should be recored the same way. Use regular expressions to harmonize the identifiers if possible. The identifiers should look like BK01, BK02, etc.\n",
    "https://docs.python.org/2/library/re.html"
   ]
  },
  {
   "cell_type": "code",
   "execution_count": 33,
   "metadata": {
    "collapsed": false
   },
   "outputs": [
    {
     "name": "stderr",
     "output_type": "stream",
     "text": [
      "/opt/rh/anaconda/root/envs/PUI2016_Python2/lib/python2.7/site-packages/ipykernel/__main__.py:7: SettingWithCopyWarning: \n",
      "A value is trying to be set on a copy of a slice from a DataFrame\n",
      "\n",
      "See the caveats in the documentation: http://pandas.pydata.org/pandas-docs/stable/indexing.html#indexing-view-versus-copy\n",
      "/opt/rh/anaconda/root/envs/PUI2016_Python2/lib/python2.7/site-packages/ipykernel/__main__.py:11: SettingWithCopyWarning: \n",
      "A value is trying to be set on a copy of a slice from a DataFrame\n",
      "\n",
      "See the caveats in the documentation: http://pandas.pydata.org/pandas-docs/stable/indexing.html#indexing-view-versus-copy\n",
      "/opt/rh/anaconda/root/envs/PUI2016_Python2/lib/python2.7/site-packages/ipykernel/__main__.py:9: SettingWithCopyWarning: \n",
      "A value is trying to be set on a copy of a slice from a DataFrame\n",
      "\n",
      "See the caveats in the documentation: http://pandas.pydata.org/pandas-docs/stable/indexing.html#indexing-view-versus-copy\n",
      "/opt/rh/anaconda/root/envs/PUI2016_Python2/lib/python2.7/site-packages/ipykernel/__main__.py:5: SettingWithCopyWarning: \n",
      "A value is trying to be set on a copy of a slice from a DataFrame\n",
      "\n",
      "See the caveats in the documentation: http://pandas.pydata.org/pandas-docs/stable/indexing.html#indexing-view-versus-copy\n",
      "/opt/rh/anaconda/root/envs/PUI2016_Python2/lib/python2.7/site-packages/ipykernel/__main__.py:13: SettingWithCopyWarning: \n",
      "A value is trying to be set on a copy of a slice from a DataFrame\n",
      "\n",
      "See the caveats in the documentation: http://pandas.pydata.org/pandas-docs/stable/indexing.html#indexing-view-versus-copy\n"
     ]
    }
   ],
   "source": [
    "DistCompl['cd_id'] = DistCompl.index.copy()\n",
    "# Harmonize identifier of dataframe 1\n",
    "for i in range(len(DistCompl)):\n",
    "    if 'BRONX'in DistCompl.index[i]:\n",
    "        DistCompl['cd_id'][i] = 'BX' + str(DistCompl.index[i][0:2])\n",
    "    elif 'MANHATTAN'in DistCompl.index[i]:\n",
    "        DistCompl['cd_id'][i] = 'MN' + str(DistCompl.index[i][0:2])\n",
    "    elif 'BROOKLYN'in DistCompl.index[i]:\n",
    "        DistCompl['cd_id'][i] = 'BK' + str(DistCompl.index[i][0:2])\n",
    "    elif 'QUEENS'in DistCompl.index[i]:\n",
    "        DistCompl['cd_id'][i] = 'QN' + str(DistCompl.index[i][0:2])\n",
    "    elif 'STATEN ISLAND'in DistCompl.index[i]:\n",
    "        DistCompl['cd_id'][i] = 'SI' + str(DistCompl.index[i][0:2])\n",
    "        "
   ]
  },
  {
   "cell_type": "code",
   "execution_count": 34,
   "metadata": {
    "collapsed": false
   },
   "outputs": [
    {
     "data": {
      "text/plain": [
       "array(['MN12', 'QN12', 'BK03', 'QN07', 'BK17', 'BK05', 'BK14', 'BX07',\n",
       "       'BK01', 'SI01', 'BX04', 'QN01', 'QN05', 'BX12', 'QN13', 'BX05',\n",
       "       'BK18', 'MN07', 'QN09', 'BK12', 'MN03', 'MN08', 'BX09', 'BK15',\n",
       "       'MN05', 'BK08', 'BK11', 'BK04', 'MN10', 'SI03', 'BK09', 'MN02',\n",
       "       'MN04', 'QN10', 'MN09', 'QN08', 'BX11', 'QN03', 'SI02', 'BK02',\n",
       "       'QN02', 'BK06', 'BK10', 'BK07', 'MN06', 'QN14', 'QN11', 'BX06',\n",
       "       'QN04', 'BX10', 'MN11', 'BX08', 'QN06', 'BK16', 'MN01', 'BX03',\n",
       "       'BX01', 'BK13', 'BX02', 'BK56', 'QN82', 'BX27', 'QN84'], dtype=object)"
      ]
     },
     "execution_count": 34,
     "metadata": {},
     "output_type": "execute_result"
    }
   ],
   "source": [
    "DistCompl['cd_id'].unique()"
   ]
  },
  {
   "cell_type": "code",
   "execution_count": 35,
   "metadata": {
    "collapsed": false
   },
   "outputs": [
    {
     "data": {
      "text/plain": [
       "array(['BX08', 'BX12', 'BX10', 'BX11', 'BX03', 'BX06', 'BX07', 'BX05',\n",
       "       'BX04', 'BX09', 'BX01', 'BX02', 'MN12', 'MN09', 'MN10', 'MN11111',\n",
       "       'MN08', 'MN07', 'MN05', 'MN04', 'MN06', 'MN03', 'MN01', 'MN02',\n",
       "       'SI03', 'SI02', 'SI01', 'BK01', 'BK04', 'BK03', 'BK02', 'BK06',\n",
       "       'BK08', 'BK16', 'BK05', 'BK18', 'BK17', 'BK09', 'BK07', 'BK10',\n",
       "       'BK12', 'BK14', 'BK15', 'BK11', 'BK13', 'QN01', 'QN03', 'QN07',\n",
       "       'QN11', 'QN13', 'QN08', 'QN04', 'QN06', 'QN02', 'QN05', 'QN09',\n",
       "       'QN12', 'QN10', 'QN14'], dtype=object)"
      ]
     },
     "execution_count": 35,
     "metadata": {},
     "output_type": "execute_result"
    }
   ],
   "source": [
    "# Harmonize identifier of dataframe 2\n",
    "dfpop['cd_id'].unique()"
   ]
  },
  {
   "cell_type": "code",
   "execution_count": 36,
   "metadata": {
    "collapsed": false
   },
   "outputs": [
    {
     "name": "stderr",
     "output_type": "stream",
     "text": [
      "/opt/rh/anaconda/root/envs/PUI2016_Python2/lib/python2.7/site-packages/ipykernel/__main__.py:2: SettingWithCopyWarning: \n",
      "A value is trying to be set on a copy of a slice from a DataFrame\n",
      "\n",
      "See the caveats in the documentation: http://pandas.pydata.org/pandas-docs/stable/indexing.html#indexing-view-versus-copy\n",
      "  from ipykernel import kernelapp as app\n",
      "/opt/rh/anaconda/root/envs/PUI2016_Python2/lib/python2.7/site-packages/IPython/core/interactiveshell.py:2881: SettingWithCopyWarning: \n",
      "A value is trying to be set on a copy of a slice from a DataFrame\n",
      "\n",
      "See the caveats in the documentation: http://pandas.pydata.org/pandas-docs/stable/indexing.html#indexing-view-versus-copy\n",
      "  exec(code_obj, self.user_global_ns, self.user_ns)\n"
     ]
    }
   ],
   "source": [
    "# We have only to fix MN11111 to MN11\n",
    "dfpop['cd_id'][15] = 'MN11'"
   ]
  },
  {
   "cell_type": "code",
   "execution_count": 37,
   "metadata": {
    "collapsed": false
   },
   "outputs": [
    {
     "data": {
      "text/plain": [
       "array(['BX08', 'BX12', 'BX10', 'BX11', 'BX03', 'BX06', 'BX07', 'BX05',\n",
       "       'BX04', 'BX09', 'BX01', 'BX02', 'MN12', 'MN09', 'MN10', 'MN11',\n",
       "       'MN08', 'MN07', 'MN05', 'MN04', 'MN06', 'MN03', 'MN01', 'MN02',\n",
       "       'SI03', 'SI02', 'SI01', 'BK01', 'BK04', 'BK03', 'BK02', 'BK06',\n",
       "       'BK08', 'BK16', 'BK05', 'BK18', 'BK17', 'BK09', 'BK07', 'BK10',\n",
       "       'BK12', 'BK14', 'BK15', 'BK11', 'BK13', 'QN01', 'QN03', 'QN07',\n",
       "       'QN11', 'QN13', 'QN08', 'QN04', 'QN06', 'QN02', 'QN05', 'QN09',\n",
       "       'QN12', 'QN10', 'QN14'], dtype=object)"
      ]
     },
     "execution_count": 37,
     "metadata": {},
     "output_type": "execute_result"
    }
   ],
   "source": [
    "dfpop['cd_id'].unique()"
   ]
  },
  {
   "cell_type": "code",
   "execution_count": 38,
   "metadata": {
    "collapsed": false
   },
   "outputs": [
    {
     "data": {
      "text/html": [
       "<div>\n",
       "<table border=\"1\" class=\"dataframe\">\n",
       "  <thead>\n",
       "    <tr style=\"text-align: right;\">\n",
       "      <th></th>\n",
       "      <th>Qualifying Name</th>\n",
       "      <th>FIPS</th>\n",
       "      <th>Households</th>\n",
       "      <th>Households: No Internet Access</th>\n",
       "      <th>Households: Internet Access Without A Subscription</th>\n",
       "      <th>Households: With A Broadband Internet Subscription</th>\n",
       "      <th>Households: With Dial-Up Internet Subscription Alone</th>\n",
       "    </tr>\n",
       "  </thead>\n",
       "  <tbody>\n",
       "    <tr>\n",
       "      <th>0</th>\n",
       "      <td>NYC-Bronx Community District 8--Riverdale, New...</td>\n",
       "      <td>3603701</td>\n",
       "      <td>42035</td>\n",
       "      <td>8121</td>\n",
       "      <td>2119</td>\n",
       "      <td>30943</td>\n",
       "      <td>404</td>\n",
       "    </tr>\n",
       "    <tr>\n",
       "      <th>1</th>\n",
       "      <td>NYC-Bronx Community District 12--Wakefield, Ne...</td>\n",
       "      <td>3603702</td>\n",
       "      <td>44830</td>\n",
       "      <td>10696</td>\n",
       "      <td>1891</td>\n",
       "      <td>31435</td>\n",
       "      <td>178</td>\n",
       "    </tr>\n",
       "    <tr>\n",
       "      <th>2</th>\n",
       "      <td>NYC-Bronx Community District 10--Co-op City, N...</td>\n",
       "      <td>3603703</td>\n",
       "      <td>47050</td>\n",
       "      <td>11439</td>\n",
       "      <td>2882</td>\n",
       "      <td>32333</td>\n",
       "      <td>158</td>\n",
       "    </tr>\n",
       "    <tr>\n",
       "      <th>3</th>\n",
       "      <td>NYC-Bronx Community District 11--Pelham Parkwa...</td>\n",
       "      <td>3603704</td>\n",
       "      <td>44922</td>\n",
       "      <td>10197</td>\n",
       "      <td>2722</td>\n",
       "      <td>31278</td>\n",
       "      <td>122</td>\n",
       "    </tr>\n",
       "    <tr>\n",
       "      <th>4</th>\n",
       "      <td>NYC-Bronx Community District 3 &amp; 6--Belmont, N...</td>\n",
       "      <td>3603705</td>\n",
       "      <td>57556</td>\n",
       "      <td>18741</td>\n",
       "      <td>3312</td>\n",
       "      <td>33408</td>\n",
       "      <td>88</td>\n",
       "    </tr>\n",
       "  </tbody>\n",
       "</table>\n",
       "</div>"
      ],
      "text/plain": [
       "                                     Qualifying Name     FIPS  Households  \\\n",
       "0  NYC-Bronx Community District 8--Riverdale, New...  3603701       42035   \n",
       "1  NYC-Bronx Community District 12--Wakefield, Ne...  3603702       44830   \n",
       "2  NYC-Bronx Community District 10--Co-op City, N...  3603703       47050   \n",
       "3  NYC-Bronx Community District 11--Pelham Parkwa...  3603704       44922   \n",
       "4  NYC-Bronx Community District 3 & 6--Belmont, N...  3603705       57556   \n",
       "\n",
       "   Households: No Internet Access  \\\n",
       "0                            8121   \n",
       "1                           10696   \n",
       "2                           11439   \n",
       "3                           10197   \n",
       "4                           18741   \n",
       "\n",
       "   Households: Internet Access Without A Subscription  \\\n",
       "0                                               2119    \n",
       "1                                               1891    \n",
       "2                                               2882    \n",
       "3                                               2722    \n",
       "4                                               3312    \n",
       "\n",
       "   Households: With A Broadband Internet Subscription  \\\n",
       "0                                              30943    \n",
       "1                                              31435    \n",
       "2                                              32333    \n",
       "3                                              31278    \n",
       "4                                              33408    \n",
       "\n",
       "   Households: With Dial-Up Internet Subscription Alone  \n",
       "0                                                404     \n",
       "1                                                178     \n",
       "2                                                158     \n",
       "3                                                122     \n",
       "4                                                 88     "
      ]
     },
     "execution_count": 38,
     "metadata": {},
     "output_type": "execute_result"
    }
   ],
   "source": [
    "# Harmonize identifier of dataframe 3\n",
    "infra.head()"
   ]
  },
  {
   "cell_type": "code",
   "execution_count": 39,
   "metadata": {
    "collapsed": false
   },
   "outputs": [
    {
     "data": {
      "text/plain": [
       "55"
      ]
     },
     "execution_count": 39,
     "metadata": {},
     "output_type": "execute_result"
    }
   ],
   "source": [
    "len(infra['FIPS'].unique())"
   ]
  },
  {
   "cell_type": "code",
   "execution_count": 40,
   "metadata": {
    "collapsed": false
   },
   "outputs": [
    {
     "data": {
      "text/plain": [
       "array([3603701, 3603702, 3603703, 3603704, 3603705, 3603706, 3603707,\n",
       "       3603708, 3603709, 3603710, 3603801, 3603802, 3603803, 3603804,\n",
       "       3603805, 3603806, 3603807, 3603808, 3603809, 3603810, 3603901,\n",
       "       3603902, 3603903, 3604001, 3604002, 3604003, 3604004, 3604005,\n",
       "       3604006, 3604007, 3604008, 3604009, 3604010, 3604011, 3604012,\n",
       "       3604013, 3604014, 3604015, 3604016, 3604017, 3604018, 3604101,\n",
       "       3604102, 3604103, 3604104, 3604105, 3604106, 3604107, 3604108,\n",
       "       3604109, 3604110, 3604111, 3604112, 3604113, 3604114])"
      ]
     },
     "execution_count": 40,
     "metadata": {},
     "output_type": "execute_result"
    }
   ],
   "source": [
    "infra['FIPS'].unique()"
   ]
  },
  {
   "cell_type": "code",
   "execution_count": 41,
   "metadata": {
    "collapsed": false
   },
   "outputs": [
    {
     "data": {
      "text/plain": [
       "55"
      ]
     },
     "execution_count": 41,
     "metadata": {},
     "output_type": "execute_result"
    }
   ],
   "source": [
    "len(dfpop['FIPS'].unique())"
   ]
  },
  {
   "cell_type": "code",
   "execution_count": 42,
   "metadata": {
    "collapsed": false
   },
   "outputs": [
    {
     "data": {
      "text/plain": [
       "array([3603701, 3603702, 3603703, 3603704, 3603705, 3603706, 3603707,\n",
       "       3603708, 3603709, 3603710, 3603801, 3603802, 3603803, 3603804,\n",
       "       3603805, 3603806, 3603807, 3603808, 3603809, 3603810, 3603901,\n",
       "       3603902, 3603903, 3604001, 3604002, 3604003, 3604004, 3604005,\n",
       "       3604006, 3604007, 3604008, 3604009, 3604010, 3604011, 3604012,\n",
       "       3604013, 3604014, 3604015, 3604016, 3604017, 3604018, 3604101,\n",
       "       3604102, 3604103, 3604104, 3604105, 3604106, 3604107, 3604108,\n",
       "       3604109, 3604110, 3604111, 3604112, 3604113, 3604114])"
      ]
     },
     "execution_count": 42,
     "metadata": {},
     "output_type": "execute_result"
    }
   ],
   "source": [
    "dfpop['FIPS'].unique()"
   ]
  },
  {
   "cell_type": "code",
   "execution_count": 43,
   "metadata": {
    "collapsed": false
   },
   "outputs": [
    {
     "data": {
      "text/html": [
       "<div>\n",
       "<table border=\"1\" class=\"dataframe\">\n",
       "  <thead>\n",
       "    <tr style=\"text-align: right;\">\n",
       "      <th></th>\n",
       "      <th>cd_id</th>\n",
       "      <th>FIPS</th>\n",
       "      <th>Per capita income (In 2014 Inflation Adjusted Dollars)</th>\n",
       "      <th>Qualifying Name</th>\n",
       "      <th>Households</th>\n",
       "      <th>Households: No Internet Access</th>\n",
       "      <th>Households: Internet Access Without A Subscription</th>\n",
       "      <th>Households: With A Broadband Internet Subscription</th>\n",
       "      <th>Households: With Dial-Up Internet Subscription Alone</th>\n",
       "    </tr>\n",
       "  </thead>\n",
       "  <tbody>\n",
       "    <tr>\n",
       "      <th>0</th>\n",
       "      <td>BX08</td>\n",
       "      <td>3603701</td>\n",
       "      <td>30730</td>\n",
       "      <td>NYC-Bronx Community District 8--Riverdale, New...</td>\n",
       "      <td>42035</td>\n",
       "      <td>8121</td>\n",
       "      <td>2119</td>\n",
       "      <td>30943</td>\n",
       "      <td>404</td>\n",
       "    </tr>\n",
       "    <tr>\n",
       "      <th>1</th>\n",
       "      <td>BX12</td>\n",
       "      <td>3603702</td>\n",
       "      <td>21523</td>\n",
       "      <td>NYC-Bronx Community District 12--Wakefield, Ne...</td>\n",
       "      <td>44830</td>\n",
       "      <td>10696</td>\n",
       "      <td>1891</td>\n",
       "      <td>31435</td>\n",
       "      <td>178</td>\n",
       "    </tr>\n",
       "    <tr>\n",
       "      <th>2</th>\n",
       "      <td>BX10</td>\n",
       "      <td>3603703</td>\n",
       "      <td>28586</td>\n",
       "      <td>NYC-Bronx Community District 10--Co-op City, N...</td>\n",
       "      <td>47050</td>\n",
       "      <td>11439</td>\n",
       "      <td>2882</td>\n",
       "      <td>32333</td>\n",
       "      <td>158</td>\n",
       "    </tr>\n",
       "    <tr>\n",
       "      <th>3</th>\n",
       "      <td>BX11</td>\n",
       "      <td>3603704</td>\n",
       "      <td>22714</td>\n",
       "      <td>NYC-Bronx Community District 11--Pelham Parkwa...</td>\n",
       "      <td>44922</td>\n",
       "      <td>10197</td>\n",
       "      <td>2722</td>\n",
       "      <td>31278</td>\n",
       "      <td>122</td>\n",
       "    </tr>\n",
       "    <tr>\n",
       "      <th>4</th>\n",
       "      <td>BX03</td>\n",
       "      <td>3603705</td>\n",
       "      <td>12662</td>\n",
       "      <td>NYC-Bronx Community District 3 &amp; 6--Belmont, N...</td>\n",
       "      <td>57556</td>\n",
       "      <td>18741</td>\n",
       "      <td>3312</td>\n",
       "      <td>33408</td>\n",
       "      <td>88</td>\n",
       "    </tr>\n",
       "  </tbody>\n",
       "</table>\n",
       "</div>"
      ],
      "text/plain": [
       "  cd_id     FIPS  Per capita income (In 2014 Inflation Adjusted Dollars)  \\\n",
       "0  BX08  3603701                                              30730        \n",
       "1  BX12  3603702                                              21523        \n",
       "2  BX10  3603703                                              28586        \n",
       "3  BX11  3603704                                              22714        \n",
       "4  BX03  3603705                                              12662        \n",
       "\n",
       "                                     Qualifying Name  Households  \\\n",
       "0  NYC-Bronx Community District 8--Riverdale, New...       42035   \n",
       "1  NYC-Bronx Community District 12--Wakefield, Ne...       44830   \n",
       "2  NYC-Bronx Community District 10--Co-op City, N...       47050   \n",
       "3  NYC-Bronx Community District 11--Pelham Parkwa...       44922   \n",
       "4  NYC-Bronx Community District 3 & 6--Belmont, N...       57556   \n",
       "\n",
       "   Households: No Internet Access  \\\n",
       "0                            8121   \n",
       "1                           10696   \n",
       "2                           11439   \n",
       "3                           10197   \n",
       "4                           18741   \n",
       "\n",
       "   Households: Internet Access Without A Subscription  \\\n",
       "0                                               2119    \n",
       "1                                               1891    \n",
       "2                                               2882    \n",
       "3                                               2722    \n",
       "4                                               3312    \n",
       "\n",
       "   Households: With A Broadband Internet Subscription  \\\n",
       "0                                              30943    \n",
       "1                                              31435    \n",
       "2                                              32333    \n",
       "3                                              31278    \n",
       "4                                              33408    \n",
       "\n",
       "   Households: With Dial-Up Internet Subscription Alone  \n",
       "0                                                404     \n",
       "1                                                178     \n",
       "2                                                158     \n",
       "3                                                122     \n",
       "4                                                 88     "
      ]
     },
     "execution_count": 43,
     "metadata": {},
     "output_type": "execute_result"
    }
   ],
   "source": [
    "# Link the 3 dataframes\n",
    "merged = pd.merge(dfpop, infra, on='FIPS')\n",
    "merged.head()"
   ]
  },
  {
   "cell_type": "code",
   "execution_count": 44,
   "metadata": {
    "collapsed": false
   },
   "outputs": [
    {
     "data": {
      "text/html": [
       "<div>\n",
       "<table border=\"1\" class=\"dataframe\">\n",
       "  <thead>\n",
       "    <tr style=\"text-align: right;\">\n",
       "      <th></th>\n",
       "      <th>N_Complaints</th>\n",
       "      <th>cd_id</th>\n",
       "      <th>FIPS</th>\n",
       "      <th>Per capita income (In 2014 Inflation Adjusted Dollars)</th>\n",
       "      <th>Qualifying Name</th>\n",
       "      <th>Households</th>\n",
       "      <th>Households: No Internet Access</th>\n",
       "      <th>Households: Internet Access Without A Subscription</th>\n",
       "      <th>Households: With A Broadband Internet Subscription</th>\n",
       "      <th>Households: With Dial-Up Internet Subscription Alone</th>\n",
       "    </tr>\n",
       "  </thead>\n",
       "  <tbody>\n",
       "    <tr>\n",
       "      <th>0</th>\n",
       "      <td>268053</td>\n",
       "      <td>MN12</td>\n",
       "      <td>3603801</td>\n",
       "      <td>21969</td>\n",
       "      <td>NYC-Manhattan Community District 12--Washingto...</td>\n",
       "      <td>75352</td>\n",
       "      <td>16275</td>\n",
       "      <td>2137</td>\n",
       "      <td>56092</td>\n",
       "      <td>306</td>\n",
       "    </tr>\n",
       "    <tr>\n",
       "      <th>1</th>\n",
       "      <td>229383</td>\n",
       "      <td>QN12</td>\n",
       "      <td>3604112</td>\n",
       "      <td>21748</td>\n",
       "      <td>NYC-Queens Community District 12--Jamaica, New...</td>\n",
       "      <td>74848</td>\n",
       "      <td>19463</td>\n",
       "      <td>1537</td>\n",
       "      <td>53106</td>\n",
       "      <td>514</td>\n",
       "    </tr>\n",
       "    <tr>\n",
       "      <th>2</th>\n",
       "      <td>197305</td>\n",
       "      <td>BK03</td>\n",
       "      <td>3604003</td>\n",
       "      <td>21424</td>\n",
       "      <td>NYC-Brooklyn Community District 3--Bedford-Stu...</td>\n",
       "      <td>50688</td>\n",
       "      <td>15567</td>\n",
       "      <td>1683</td>\n",
       "      <td>32660</td>\n",
       "      <td>110</td>\n",
       "    </tr>\n",
       "    <tr>\n",
       "      <th>3</th>\n",
       "      <td>195961</td>\n",
       "      <td>QN07</td>\n",
       "      <td>3604103</td>\n",
       "      <td>25870</td>\n",
       "      <td>NYC-Queens Community District 7--Flushing, New...</td>\n",
       "      <td>89206</td>\n",
       "      <td>19514</td>\n",
       "      <td>1246</td>\n",
       "      <td>67680</td>\n",
       "      <td>150</td>\n",
       "    </tr>\n",
       "    <tr>\n",
       "      <th>4</th>\n",
       "      <td>191720</td>\n",
       "      <td>BK17</td>\n",
       "      <td>3604010</td>\n",
       "      <td>23300</td>\n",
       "      <td>NYC-Brooklyn Community District 17--East Flatb...</td>\n",
       "      <td>50711</td>\n",
       "      <td>13852</td>\n",
       "      <td>1184</td>\n",
       "      <td>34990</td>\n",
       "      <td>256</td>\n",
       "    </tr>\n",
       "  </tbody>\n",
       "</table>\n",
       "</div>"
      ],
      "text/plain": [
       "   N_Complaints cd_id     FIPS  \\\n",
       "0        268053  MN12  3603801   \n",
       "1        229383  QN12  3604112   \n",
       "2        197305  BK03  3604003   \n",
       "3        195961  QN07  3604103   \n",
       "4        191720  BK17  3604010   \n",
       "\n",
       "   Per capita income (In 2014 Inflation Adjusted Dollars)  \\\n",
       "0                                              21969        \n",
       "1                                              21748        \n",
       "2                                              21424        \n",
       "3                                              25870        \n",
       "4                                              23300        \n",
       "\n",
       "                                     Qualifying Name  Households  \\\n",
       "0  NYC-Manhattan Community District 12--Washingto...       75352   \n",
       "1  NYC-Queens Community District 12--Jamaica, New...       74848   \n",
       "2  NYC-Brooklyn Community District 3--Bedford-Stu...       50688   \n",
       "3  NYC-Queens Community District 7--Flushing, New...       89206   \n",
       "4  NYC-Brooklyn Community District 17--East Flatb...       50711   \n",
       "\n",
       "   Households: No Internet Access  \\\n",
       "0                           16275   \n",
       "1                           19463   \n",
       "2                           15567   \n",
       "3                           19514   \n",
       "4                           13852   \n",
       "\n",
       "   Households: Internet Access Without A Subscription  \\\n",
       "0                                               2137    \n",
       "1                                               1537    \n",
       "2                                               1683    \n",
       "3                                               1246    \n",
       "4                                               1184    \n",
       "\n",
       "   Households: With A Broadband Internet Subscription  \\\n",
       "0                                              56092    \n",
       "1                                              53106    \n",
       "2                                              32660    \n",
       "3                                              67680    \n",
       "4                                              34990    \n",
       "\n",
       "   Households: With Dial-Up Internet Subscription Alone  \n",
       "0                                                306     \n",
       "1                                                514     \n",
       "2                                                110     \n",
       "3                                                150     \n",
       "4                                                256     "
      ]
     },
     "execution_count": 44,
     "metadata": {},
     "output_type": "execute_result"
    }
   ],
   "source": [
    "merged = pd.merge(DistCompl, merged, on='cd_id')\n",
    "merged.head()"
   ]
  },
  {
   "cell_type": "code",
   "execution_count": 45,
   "metadata": {
    "collapsed": false
   },
   "outputs": [
    {
     "data": {
      "text/html": [
       "<div>\n",
       "<table border=\"1\" class=\"dataframe\">\n",
       "  <thead>\n",
       "    <tr style=\"text-align: right;\">\n",
       "      <th></th>\n",
       "      <th>N_Complaints</th>\n",
       "      <th>cd_id</th>\n",
       "      <th>Per capita income (In 2014 Inflation Adjusted Dollars)</th>\n",
       "      <th>Households</th>\n",
       "      <th>Households: No Internet Access</th>\n",
       "      <th>Households: Internet Access Without A Subscription</th>\n",
       "      <th>Households: With A Broadband Internet Subscription</th>\n",
       "      <th>Households: With Dial-Up Internet Subscription Alone</th>\n",
       "    </tr>\n",
       "  </thead>\n",
       "  <tbody>\n",
       "    <tr>\n",
       "      <th>0</th>\n",
       "      <td>268053</td>\n",
       "      <td>MN12</td>\n",
       "      <td>21969</td>\n",
       "      <td>75352</td>\n",
       "      <td>16275</td>\n",
       "      <td>2137</td>\n",
       "      <td>56092</td>\n",
       "      <td>306</td>\n",
       "    </tr>\n",
       "    <tr>\n",
       "      <th>1</th>\n",
       "      <td>229383</td>\n",
       "      <td>QN12</td>\n",
       "      <td>21748</td>\n",
       "      <td>74848</td>\n",
       "      <td>19463</td>\n",
       "      <td>1537</td>\n",
       "      <td>53106</td>\n",
       "      <td>514</td>\n",
       "    </tr>\n",
       "    <tr>\n",
       "      <th>2</th>\n",
       "      <td>197305</td>\n",
       "      <td>BK03</td>\n",
       "      <td>21424</td>\n",
       "      <td>50688</td>\n",
       "      <td>15567</td>\n",
       "      <td>1683</td>\n",
       "      <td>32660</td>\n",
       "      <td>110</td>\n",
       "    </tr>\n",
       "    <tr>\n",
       "      <th>3</th>\n",
       "      <td>195961</td>\n",
       "      <td>QN07</td>\n",
       "      <td>25870</td>\n",
       "      <td>89206</td>\n",
       "      <td>19514</td>\n",
       "      <td>1246</td>\n",
       "      <td>67680</td>\n",
       "      <td>150</td>\n",
       "    </tr>\n",
       "    <tr>\n",
       "      <th>4</th>\n",
       "      <td>191720</td>\n",
       "      <td>BK17</td>\n",
       "      <td>23300</td>\n",
       "      <td>50711</td>\n",
       "      <td>13852</td>\n",
       "      <td>1184</td>\n",
       "      <td>34990</td>\n",
       "      <td>256</td>\n",
       "    </tr>\n",
       "  </tbody>\n",
       "</table>\n",
       "</div>"
      ],
      "text/plain": [
       "   N_Complaints cd_id  Per capita income (In 2014 Inflation Adjusted Dollars)  \\\n",
       "0        268053  MN12                                              21969        \n",
       "1        229383  QN12                                              21748        \n",
       "2        197305  BK03                                              21424        \n",
       "3        195961  QN07                                              25870        \n",
       "4        191720  BK17                                              23300        \n",
       "\n",
       "   Households  Households: No Internet Access  \\\n",
       "0       75352                           16275   \n",
       "1       74848                           19463   \n",
       "2       50688                           15567   \n",
       "3       89206                           19514   \n",
       "4       50711                           13852   \n",
       "\n",
       "   Households: Internet Access Without A Subscription  \\\n",
       "0                                               2137    \n",
       "1                                               1537    \n",
       "2                                               1683    \n",
       "3                                               1246    \n",
       "4                                               1184    \n",
       "\n",
       "   Households: With A Broadband Internet Subscription  \\\n",
       "0                                              56092    \n",
       "1                                              53106    \n",
       "2                                              32660    \n",
       "3                                              67680    \n",
       "4                                              34990    \n",
       "\n",
       "   Households: With Dial-Up Internet Subscription Alone  \n",
       "0                                                306     \n",
       "1                                                514     \n",
       "2                                                110     \n",
       "3                                                150     \n",
       "4                                                256     "
      ]
     },
     "execution_count": 45,
     "metadata": {},
     "output_type": "execute_result"
    }
   ],
   "source": [
    "merged = merged.drop(['FIPS', 'Qualifying Name'], axis = 1)\n",
    "merged.head()"
   ]
  },
  {
   "cell_type": "code",
   "execution_count": 46,
   "metadata": {
    "collapsed": false
   },
   "outputs": [
    {
     "data": {
      "image/png": "[encoded data removed]",
      "text/plain": [
       "<matplotlib.figure.Figure at 0x7f1cdd582750>"
      ]
     },
     "metadata": {},
     "output_type": "display_data"
    }
   ],
   "source": [
    "# Are the demographics and infrastructure different in Community Districts that show more complaints than others?\n",
    "pd.scatter_matrix(merged, alpha=0.2, figsize=(10, 10), diagonal='kde')\n",
    "pl.show()"
   ]
  },
  {
   "cell_type": "markdown",
   "metadata": {},
   "source": [
    "From the scatter matrix we can already see that the number of households with Broadband is strongly correlated with the Income per Capita on each District. With the number of complains, though, it is not very clear whether or not those two variables are correlated.  "
   ]
  },
  {
   "cell_type": "code",
   "execution_count": 47,
   "metadata": {
    "collapsed": false
   },
   "outputs": [
    {
     "data": {
      "text/html": [
       "<div>\n",
       "<table border=\"1\" class=\"dataframe\">\n",
       "  <thead>\n",
       "    <tr style=\"text-align: right;\">\n",
       "      <th></th>\n",
       "      <th>N_Complaints</th>\n",
       "      <th>Per capita income (In 2014 Inflation Adjusted Dollars)</th>\n",
       "      <th>Households</th>\n",
       "      <th>Households: No Internet Access</th>\n",
       "      <th>Households: Internet Access Without A Subscription</th>\n",
       "      <th>Households: With A Broadband Internet Subscription</th>\n",
       "      <th>Households: With Dial-Up Internet Subscription Alone</th>\n",
       "    </tr>\n",
       "  </thead>\n",
       "  <tbody>\n",
       "    <tr>\n",
       "      <th>N_Complaints</th>\n",
       "      <td>1.000000</td>\n",
       "      <td>-0.056520</td>\n",
       "      <td>0.235760</td>\n",
       "      <td>0.119104</td>\n",
       "      <td>-0.045165</td>\n",
       "      <td>0.203950</td>\n",
       "      <td>0.314947</td>\n",
       "    </tr>\n",
       "    <tr>\n",
       "      <th>Per capita income (In 2014 Inflation Adjusted Dollars)</th>\n",
       "      <td>-0.056520</td>\n",
       "      <td>1.000000</td>\n",
       "      <td>0.753915</td>\n",
       "      <td>-0.586929</td>\n",
       "      <td>0.296664</td>\n",
       "      <td>0.864686</td>\n",
       "      <td>-0.045238</td>\n",
       "    </tr>\n",
       "    <tr>\n",
       "      <th>Households</th>\n",
       "      <td>0.235760</td>\n",
       "      <td>0.753915</td>\n",
       "      <td>1.000000</td>\n",
       "      <td>-0.086621</td>\n",
       "      <td>0.406709</td>\n",
       "      <td>0.955924</td>\n",
       "      <td>-0.008618</td>\n",
       "    </tr>\n",
       "    <tr>\n",
       "      <th>Households: No Internet Access</th>\n",
       "      <td>0.119104</td>\n",
       "      <td>-0.586929</td>\n",
       "      <td>-0.086621</td>\n",
       "      <td>1.000000</td>\n",
       "      <td>0.250990</td>\n",
       "      <td>-0.370114</td>\n",
       "      <td>0.009390</td>\n",
       "    </tr>\n",
       "    <tr>\n",
       "      <th>Households: Internet Access Without A Subscription</th>\n",
       "      <td>-0.045165</td>\n",
       "      <td>0.296664</td>\n",
       "      <td>0.406709</td>\n",
       "      <td>0.250990</td>\n",
       "      <td>1.000000</td>\n",
       "      <td>0.262156</td>\n",
       "      <td>-0.219164</td>\n",
       "    </tr>\n",
       "    <tr>\n",
       "      <th>Households: With A Broadband Internet Subscription</th>\n",
       "      <td>0.203950</td>\n",
       "      <td>0.864686</td>\n",
       "      <td>0.955924</td>\n",
       "      <td>-0.370114</td>\n",
       "      <td>0.262156</td>\n",
       "      <td>1.000000</td>\n",
       "      <td>0.002095</td>\n",
       "    </tr>\n",
       "    <tr>\n",
       "      <th>Households: With Dial-Up Internet Subscription Alone</th>\n",
       "      <td>0.314947</td>\n",
       "      <td>-0.045238</td>\n",
       "      <td>-0.008618</td>\n",
       "      <td>0.009390</td>\n",
       "      <td>-0.219164</td>\n",
       "      <td>0.002095</td>\n",
       "      <td>1.000000</td>\n",
       "    </tr>\n",
       "  </tbody>\n",
       "</table>\n",
       "</div>"
      ],
      "text/plain": [
       "                                                    N_Complaints  \\\n",
       "N_Complaints                                            1.000000   \n",
       "Per capita income (In 2014 Inflation Adjusted D...     -0.056520   \n",
       "Households                                              0.235760   \n",
       "Households: No Internet Access                          0.119104   \n",
       "Households: Internet Access Without A Subscription     -0.045165   \n",
       "Households: With A Broadband Internet Subscription      0.203950   \n",
       "Households: With Dial-Up Internet Subscription ...      0.314947   \n",
       "\n",
       "                                                    Per capita income (In 2014 Inflation Adjusted Dollars)  \\\n",
       "N_Complaints                                                                                -0.056520        \n",
       "Per capita income (In 2014 Inflation Adjusted D...                                           1.000000        \n",
       "Households                                                                                   0.753915        \n",
       "Households: No Internet Access                                                              -0.586929        \n",
       "Households: Internet Access Without A Subscription                                           0.296664        \n",
       "Households: With A Broadband Internet Subscription                                           0.864686        \n",
       "Households: With Dial-Up Internet Subscription ...                                          -0.045238        \n",
       "\n",
       "                                                    Households  \\\n",
       "N_Complaints                                          0.235760   \n",
       "Per capita income (In 2014 Inflation Adjusted D...    0.753915   \n",
       "Households                                            1.000000   \n",
       "Households: No Internet Access                       -0.086621   \n",
       "Households: Internet Access Without A Subscription    0.406709   \n",
       "Households: With A Broadband Internet Subscription    0.955924   \n",
       "Households: With Dial-Up Internet Subscription ...   -0.008618   \n",
       "\n",
       "                                                    Households: No Internet Access  \\\n",
       "N_Complaints                                                              0.119104   \n",
       "Per capita income (In 2014 Inflation Adjusted D...                       -0.586929   \n",
       "Households                                                               -0.086621   \n",
       "Households: No Internet Access                                            1.000000   \n",
       "Households: Internet Access Without A Subscription                        0.250990   \n",
       "Households: With A Broadband Internet Subscription                       -0.370114   \n",
       "Households: With Dial-Up Internet Subscription ...                        0.009390   \n",
       "\n",
       "                                                    Households: Internet Access Without A Subscription  \\\n",
       "N_Complaints                                                                                -0.045165    \n",
       "Per capita income (In 2014 Inflation Adjusted D...                                           0.296664    \n",
       "Households                                                                                   0.406709    \n",
       "Households: No Internet Access                                                               0.250990    \n",
       "Households: Internet Access Without A Subscription                                           1.000000    \n",
       "Households: With A Broadband Internet Subscription                                           0.262156    \n",
       "Households: With Dial-Up Internet Subscription ...                                          -0.219164    \n",
       "\n",
       "                                                    Households: With A Broadband Internet Subscription  \\\n",
       "N_Complaints                                                                                 0.203950    \n",
       "Per capita income (In 2014 Inflation Adjusted D...                                           0.864686    \n",
       "Households                                                                                   0.955924    \n",
       "Households: No Internet Access                                                              -0.370114    \n",
       "Households: Internet Access Without A Subscription                                           0.262156    \n",
       "Households: With A Broadband Internet Subscription                                           1.000000    \n",
       "Households: With Dial-Up Internet Subscription ...                                           0.002095    \n",
       "\n",
       "                                                    Households: With Dial-Up Internet Subscription Alone  \n",
       "N_Complaints                                                                                 0.314947     \n",
       "Per capita income (In 2014 Inflation Adjusted D...                                          -0.045238     \n",
       "Households                                                                                  -0.008618     \n",
       "Households: No Internet Access                                                               0.009390     \n",
       "Households: Internet Access Without A Subscription                                          -0.219164     \n",
       "Households: With A Broadband Internet Subscription                                           0.002095     \n",
       "Households: With Dial-Up Internet Subscription ...                                           1.000000     "
      ]
     },
     "execution_count": 47,
     "metadata": {},
     "output_type": "execute_result"
    }
   ],
   "source": [
    "merged.corr()"
   ]
  },
  {
   "cell_type": "markdown",
   "metadata": {},
   "source": [
    "Looking at the matrix of Pearson's correlation coeficients, none of the variables considered for the analysis seems to be strogly correlated with the number of complaints. "
   ]
  }
 ],
 "metadata": {
  "celltoolbar": "Raw Cell Format",
  "kernelspec": {
   "display_name": "PUI2016_Python2",
   "language": "python",
   "name": "pui2016_python2"
  },
  "language_info": {
   "codemirror_mode": {
    "name": "ipython",
    "version": 2
   },
   "file_extension": ".py",
   "mimetype": "text/x-python",
   "name": "python",
   "nbconvert_exporter": "python",
   "pygments_lexer": "ipython2",
   "version": "2.7.12"
  }
 },
 "nbformat": 4,
 "nbformat_minor": 0
}
